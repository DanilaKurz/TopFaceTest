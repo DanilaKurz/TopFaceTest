{
 "cells": [
  {
   "cell_type": "markdown",
   "id": "963453c2",
   "metadata": {},
   "source": [
    "# Тестовое задание Topface Media"
   ]
  },
  {
   "cell_type": "markdown",
   "id": "bc36be2c",
   "metadata": {},
   "source": [
    "На новых пользователях в некоторых странах был проведен A/B-тест. Его суть\n",
    "заключалась в том, что для тестовой группы удвоили стоимость премиум-подписки при\n",
    "покупке через платежные системы Google Play и Payment Ninja. Стоимость пробной\n",
    "подписки не менялась.\n",
    "Премиум подписка дает доступ к некоторым важным заблокированным функциям.\n",
    "Если приобретает премиум-подписку, то ежемесячно с него списывается\n",
    "фиксированная сумма денег, если он ее не отменит.\n",
    "Нам необходимо выяснить, удачен ли эксперимент. Если все же тест не подтвердил\n",
    "преимущества новых цен, то проанализировать, имеет ли данная правка смысл хоть\n",
    "на каких-то группах пользователей."
   ]
  },
  {
   "cell_type": "markdown",
   "id": "4f6f16a4",
   "metadata": {},
   "source": [
    "## 1. Предварительный просмотр и изучение данных, предобработка."
   ]
  },
  {
   "cell_type": "code",
   "execution_count": 274,
   "id": "e059c5da",
   "metadata": {},
   "outputs": [],
   "source": [
    "import pandas as pd\n",
    "import matplotlib.pyplot as plt\n",
    "import numpy as np"
   ]
  },
  {
   "cell_type": "code",
   "execution_count": 275,
   "id": "6c2adbf6",
   "metadata": {},
   "outputs": [],
   "source": [
    "pay_df_1 = pd.read_csv('payments_CG1.csv', sep=\";\")\n",
    "pay_df_2 = pd.read_csv('payments_CG2.csv', sep=\";\")\n",
    "pay_df_test = pd.read_csv('payments_TG.csv', sep=\";\")\n",
    "portrait_df_1 = pd.read_csv('portrait_CG1.csv', sep=\";\")\n",
    "portrait_df_2 = pd.read_csv('portrait_CG2.csv', sep=\";\")\n",
    "portrait_df_test = pd.read_csv('portrait_TG.csv', sep=\";\")"
   ]
  },
  {
   "cell_type": "code",
   "execution_count": 276,
   "id": "d1c46c30",
   "metadata": {},
   "outputs": [
    {
     "data": {
      "text/html": [
       "<div>\n",
       "<style scoped>\n",
       "    .dataframe tbody tr th:only-of-type {\n",
       "        vertical-align: middle;\n",
       "    }\n",
       "\n",
       "    .dataframe tbody tr th {\n",
       "        vertical-align: top;\n",
       "    }\n",
       "\n",
       "    .dataframe thead th {\n",
       "        text-align: right;\n",
       "    }\n",
       "</style>\n",
       "<table border=\"1\" class=\"dataframe\">\n",
       "  <thead>\n",
       "    <tr style=\"text-align: right;\">\n",
       "      <th></th>\n",
       "      <th>user_id</th>\n",
       "      <th>registration_date</th>\n",
       "      <th>payment_date</th>\n",
       "      <th>revenue</th>\n",
       "      <th>payment_service_id</th>\n",
       "      <th>place</th>\n",
       "      <th>country</th>\n",
       "      <th>product_type</th>\n",
       "    </tr>\n",
       "  </thead>\n",
       "  <tbody>\n",
       "    <tr>\n",
       "      <th>0</th>\n",
       "      <td>891319275.0</td>\n",
       "      <td>05.11.2017 19:57</td>\n",
       "      <td>12.11.2017 21:57</td>\n",
       "      <td>12727.0</td>\n",
       "      <td>147.0</td>\n",
       "      <td>TrialVipPopup</td>\n",
       "      <td>FR</td>\n",
       "      <td>trial</td>\n",
       "    </tr>\n",
       "    <tr>\n",
       "      <th>1</th>\n",
       "      <td>892421826.0</td>\n",
       "      <td>14.10.2017 12:46</td>\n",
       "      <td>23.10.2017 12:54</td>\n",
       "      <td>14586.0</td>\n",
       "      <td>147.0</td>\n",
       "      <td>TrialVipPopup</td>\n",
       "      <td>IL</td>\n",
       "      <td>trial</td>\n",
       "    </tr>\n",
       "    <tr>\n",
       "      <th>2</th>\n",
       "      <td>891822480.0</td>\n",
       "      <td>26.10.2017 22:27</td>\n",
       "      <td>12.11.2017 20:59</td>\n",
       "      <td>1911.0</td>\n",
       "      <td>19.0</td>\n",
       "      <td>none</td>\n",
       "      <td>IT</td>\n",
       "      <td>coins</td>\n",
       "    </tr>\n",
       "    <tr>\n",
       "      <th>3</th>\n",
       "      <td>891367521.0</td>\n",
       "      <td>05.11.2017 2:37</td>\n",
       "      <td>06.11.2017 19:15</td>\n",
       "      <td>1456.0</td>\n",
       "      <td>127.0</td>\n",
       "      <td>sympathy_access</td>\n",
       "      <td>IT</td>\n",
       "      <td>other</td>\n",
       "    </tr>\n",
       "    <tr>\n",
       "      <th>4</th>\n",
       "      <td>892207959.0</td>\n",
       "      <td>18.10.2017 18:30</td>\n",
       "      <td>12.11.2017 12:03</td>\n",
       "      <td>1261.0</td>\n",
       "      <td>19.0</td>\n",
       "      <td>EmptyLikes</td>\n",
       "      <td>FR</td>\n",
       "      <td>coins</td>\n",
       "    </tr>\n",
       "  </tbody>\n",
       "</table>\n",
       "</div>"
      ],
      "text/plain": [
       "       user_id registration_date      payment_date  revenue  \\\n",
       "0  891319275.0  05.11.2017 19:57  12.11.2017 21:57  12727.0   \n",
       "1  892421826.0  14.10.2017 12:46  23.10.2017 12:54  14586.0   \n",
       "2  891822480.0  26.10.2017 22:27  12.11.2017 20:59   1911.0   \n",
       "3  891367521.0   05.11.2017 2:37  06.11.2017 19:15   1456.0   \n",
       "4  892207959.0  18.10.2017 18:30  12.11.2017 12:03   1261.0   \n",
       "\n",
       "   payment_service_id            place country product_type  \n",
       "0               147.0    TrialVipPopup      FR        trial  \n",
       "1               147.0    TrialVipPopup      IL        trial  \n",
       "2                19.0             none      IT        coins  \n",
       "3               127.0  sympathy_access      IT        other  \n",
       "4                19.0       EmptyLikes      FR        coins  "
      ]
     },
     "execution_count": 276,
     "metadata": {},
     "output_type": "execute_result"
    }
   ],
   "source": [
    "pay_df_1.head()"
   ]
  },
  {
   "cell_type": "code",
   "execution_count": 277,
   "id": "7a820acb",
   "metadata": {},
   "outputs": [
    {
     "name": "stdout",
     "output_type": "stream",
     "text": [
      "<class 'pandas.core.frame.DataFrame'>\n",
      "RangeIndex: 1007 entries, 0 to 1006\n",
      "Data columns (total 8 columns):\n",
      " #   Column              Non-Null Count  Dtype  \n",
      "---  ------              --------------  -----  \n",
      " 0   user_id             377 non-null    float64\n",
      " 1   registration_date   377 non-null    object \n",
      " 2   payment_date        377 non-null    object \n",
      " 3   revenue             377 non-null    float64\n",
      " 4   payment_service_id  377 non-null    float64\n",
      " 5   place               377 non-null    object \n",
      " 6   country             377 non-null    object \n",
      " 7   product_type        377 non-null    object \n",
      "dtypes: float64(3), object(5)\n",
      "memory usage: 63.1+ KB\n"
     ]
    }
   ],
   "source": [
    "pay_df_1.info()"
   ]
  },
  {
   "cell_type": "markdown",
   "id": "825137f8",
   "metadata": {},
   "source": [
    "\n",
    "\n",
    "Во всех столбцах одинаковое количество пропусков, причем их количество значительно превышает количество присутствующих значений. Избавимся от пропусков, после этого изменим тип данных. \n",
    "\n"
   ]
  },
  {
   "cell_type": "code",
   "execution_count": 278,
   "id": "91db8909",
   "metadata": {},
   "outputs": [
    {
     "name": "stdout",
     "output_type": "stream",
     "text": [
      "<class 'pandas.core.frame.DataFrame'>\n",
      "Int64Index: 377 entries, 0 to 376\n",
      "Data columns (total 8 columns):\n",
      " #   Column              Non-Null Count  Dtype \n",
      "---  ------              --------------  ----- \n",
      " 0   user_id             377 non-null    int64 \n",
      " 1   registration_date   377 non-null    object\n",
      " 2   payment_date        377 non-null    object\n",
      " 3   revenue             377 non-null    int64 \n",
      " 4   payment_service_id  377 non-null    int64 \n",
      " 5   place               377 non-null    object\n",
      " 6   country             377 non-null    object\n",
      " 7   product_type        377 non-null    object\n",
      "dtypes: int64(3), object(5)\n",
      "memory usage: 26.5+ KB\n"
     ]
    }
   ],
   "source": [
    "pay_df_1 = pay_df_1.dropna()\n",
    "pay_df_1['user_id'] = pay_df_1['user_id'].astype('int64')\n",
    "pay_df_1['revenue'] = pay_df_1['revenue'].astype('int64')\n",
    "pay_df_1['payment_service_id'] = pay_df_1['payment_service_id'].astype('int64')\n",
    "pay_df_1.info()"
   ]
  },
  {
   "cell_type": "code",
   "execution_count": 279,
   "id": "a6cf0183",
   "metadata": {},
   "outputs": [
    {
     "data": {
      "text/html": [
       "<div>\n",
       "<style scoped>\n",
       "    .dataframe tbody tr th:only-of-type {\n",
       "        vertical-align: middle;\n",
       "    }\n",
       "\n",
       "    .dataframe tbody tr th {\n",
       "        vertical-align: top;\n",
       "    }\n",
       "\n",
       "    .dataframe thead th {\n",
       "        text-align: right;\n",
       "    }\n",
       "</style>\n",
       "<table border=\"1\" class=\"dataframe\">\n",
       "  <thead>\n",
       "    <tr style=\"text-align: right;\">\n",
       "      <th></th>\n",
       "      <th>user_id</th>\n",
       "      <th>registration_date</th>\n",
       "      <th>payment_date</th>\n",
       "      <th>revenue</th>\n",
       "      <th>payment_service_id</th>\n",
       "      <th>place</th>\n",
       "      <th>country</th>\n",
       "      <th>product_type</th>\n",
       "    </tr>\n",
       "  </thead>\n",
       "  <tbody>\n",
       "    <tr>\n",
       "      <th>0</th>\n",
       "      <td>891266616</td>\n",
       "      <td>06.11.2017 15:25</td>\n",
       "      <td>10.11.2017 17:35</td>\n",
       "      <td>6305</td>\n",
       "      <td>19</td>\n",
       "      <td>autorefill</td>\n",
       "      <td>AR</td>\n",
       "      <td>coins</td>\n",
       "    </tr>\n",
       "    <tr>\n",
       "      <th>1</th>\n",
       "      <td>892186737</td>\n",
       "      <td>19.10.2017 6:03</td>\n",
       "      <td>04.11.2017 8:53</td>\n",
       "      <td>4732</td>\n",
       "      <td>147</td>\n",
       "      <td>promo.key31</td>\n",
       "      <td>CL</td>\n",
       "      <td>prem</td>\n",
       "    </tr>\n",
       "    <tr>\n",
       "      <th>2</th>\n",
       "      <td>891959004</td>\n",
       "      <td>24.10.2017 0:12</td>\n",
       "      <td>31.10.2017 2:12</td>\n",
       "      <td>10153</td>\n",
       "      <td>147</td>\n",
       "      <td>TrialVipPopup</td>\n",
       "      <td>US</td>\n",
       "      <td>trial</td>\n",
       "    </tr>\n",
       "    <tr>\n",
       "      <th>3</th>\n",
       "      <td>892115478</td>\n",
       "      <td>20.10.2017 20:39</td>\n",
       "      <td>26.10.2017 6:26</td>\n",
       "      <td>2366</td>\n",
       "      <td>67</td>\n",
       "      <td>EmptyLikes</td>\n",
       "      <td>ES</td>\n",
       "      <td>other</td>\n",
       "    </tr>\n",
       "    <tr>\n",
       "      <th>4</th>\n",
       "      <td>891592941</td>\n",
       "      <td>31.10.2017 12:40</td>\n",
       "      <td>03.11.2017 16:25</td>\n",
       "      <td>6292</td>\n",
       "      <td>147</td>\n",
       "      <td>promo.key31</td>\n",
       "      <td>CH</td>\n",
       "      <td>prem</td>\n",
       "    </tr>\n",
       "  </tbody>\n",
       "</table>\n",
       "</div>"
      ],
      "text/plain": [
       "     user_id registration_date      payment_date  revenue  payment_service_id  \\\n",
       "0  891266616  06.11.2017 15:25  10.11.2017 17:35     6305                  19   \n",
       "1  892186737   19.10.2017 6:03   04.11.2017 8:53     4732                 147   \n",
       "2  891959004   24.10.2017 0:12   31.10.2017 2:12    10153                 147   \n",
       "3  892115478  20.10.2017 20:39   26.10.2017 6:26     2366                  67   \n",
       "4  891592941  31.10.2017 12:40  03.11.2017 16:25     6292                 147   \n",
       "\n",
       "           place country product_type  \n",
       "0     autorefill      AR        coins  \n",
       "1    promo.key31      CL         prem  \n",
       "2  TrialVipPopup      US        trial  \n",
       "3     EmptyLikes      ES        other  \n",
       "4    promo.key31      CH         prem  "
      ]
     },
     "execution_count": 279,
     "metadata": {},
     "output_type": "execute_result"
    }
   ],
   "source": [
    "pay_df_2.head()"
   ]
  },
  {
   "cell_type": "code",
   "execution_count": 280,
   "id": "c300d147",
   "metadata": {},
   "outputs": [
    {
     "name": "stdout",
     "output_type": "stream",
     "text": [
      "<class 'pandas.core.frame.DataFrame'>\n",
      "RangeIndex: 328 entries, 0 to 327\n",
      "Data columns (total 8 columns):\n",
      " #   Column              Non-Null Count  Dtype \n",
      "---  ------              --------------  ----- \n",
      " 0   user_id             328 non-null    int64 \n",
      " 1   registration_date   328 non-null    object\n",
      " 2   payment_date        328 non-null    object\n",
      " 3   revenue             328 non-null    int64 \n",
      " 4   payment_service_id  328 non-null    int64 \n",
      " 5   place               328 non-null    object\n",
      " 6   country             328 non-null    object\n",
      " 7   product_type        328 non-null    object\n",
      "dtypes: int64(3), object(5)\n",
      "memory usage: 20.6+ KB\n"
     ]
    }
   ],
   "source": [
    "pay_df_2.info()"
   ]
  },
  {
   "cell_type": "code",
   "execution_count": 281,
   "id": "4f3a0cfa",
   "metadata": {
    "scrolled": false
   },
   "outputs": [
    {
     "data": {
      "text/html": [
       "<div>\n",
       "<style scoped>\n",
       "    .dataframe tbody tr th:only-of-type {\n",
       "        vertical-align: middle;\n",
       "    }\n",
       "\n",
       "    .dataframe tbody tr th {\n",
       "        vertical-align: top;\n",
       "    }\n",
       "\n",
       "    .dataframe thead th {\n",
       "        text-align: right;\n",
       "    }\n",
       "</style>\n",
       "<table border=\"1\" class=\"dataframe\">\n",
       "  <thead>\n",
       "    <tr style=\"text-align: right;\">\n",
       "      <th></th>\n",
       "      <th>user_id</th>\n",
       "      <th>registration_date</th>\n",
       "      <th>payment_date</th>\n",
       "      <th>revenue</th>\n",
       "      <th>payment_service_id</th>\n",
       "      <th>place</th>\n",
       "      <th>country</th>\n",
       "      <th>product_type</th>\n",
       "    </tr>\n",
       "  </thead>\n",
       "  <tbody>\n",
       "    <tr>\n",
       "      <th>0</th>\n",
       "      <td>891345942</td>\n",
       "      <td>05.11.2017 13:00</td>\n",
       "      <td>13.11.2017 15:04</td>\n",
       "      <td>12909</td>\n",
       "      <td>147</td>\n",
       "      <td>TrialVipPopup</td>\n",
       "      <td>IT</td>\n",
       "      <td>trial</td>\n",
       "    </tr>\n",
       "    <tr>\n",
       "      <th>1</th>\n",
       "      <td>892054251</td>\n",
       "      <td>22.10.2017 0:33</td>\n",
       "      <td>30.10.2017 1:37</td>\n",
       "      <td>13923</td>\n",
       "      <td>147</td>\n",
       "      <td>TrialVipPopup</td>\n",
       "      <td>US</td>\n",
       "      <td>trial</td>\n",
       "    </tr>\n",
       "    <tr>\n",
       "      <th>2</th>\n",
       "      <td>892236423</td>\n",
       "      <td>18.10.2017 1:09</td>\n",
       "      <td>23.10.2017 0:15</td>\n",
       "      <td>3783</td>\n",
       "      <td>67</td>\n",
       "      <td>Menu</td>\n",
       "      <td>US</td>\n",
       "      <td>other</td>\n",
       "    </tr>\n",
       "    <tr>\n",
       "      <th>3</th>\n",
       "      <td>892236423</td>\n",
       "      <td>18.10.2017 1:09</td>\n",
       "      <td>27.10.2017 22:38</td>\n",
       "      <td>3783</td>\n",
       "      <td>67</td>\n",
       "      <td>Menu</td>\n",
       "      <td>US</td>\n",
       "      <td>other</td>\n",
       "    </tr>\n",
       "    <tr>\n",
       "      <th>4</th>\n",
       "      <td>892168170</td>\n",
       "      <td>19.10.2017 17:10</td>\n",
       "      <td>27.10.2017 19:10</td>\n",
       "      <td>9087</td>\n",
       "      <td>147</td>\n",
       "      <td>TrialVipPopup</td>\n",
       "      <td>US</td>\n",
       "      <td>trial</td>\n",
       "    </tr>\n",
       "  </tbody>\n",
       "</table>\n",
       "</div>"
      ],
      "text/plain": [
       "     user_id registration_date      payment_date  revenue  payment_service_id  \\\n",
       "0  891345942  05.11.2017 13:00  13.11.2017 15:04    12909                 147   \n",
       "1  892054251   22.10.2017 0:33   30.10.2017 1:37    13923                 147   \n",
       "2  892236423   18.10.2017 1:09   23.10.2017 0:15     3783                  67   \n",
       "3  892236423   18.10.2017 1:09  27.10.2017 22:38     3783                  67   \n",
       "4  892168170  19.10.2017 17:10  27.10.2017 19:10     9087                 147   \n",
       "\n",
       "           place country product_type  \n",
       "0  TrialVipPopup      IT        trial  \n",
       "1  TrialVipPopup      US        trial  \n",
       "2           Menu      US        other  \n",
       "3           Menu      US        other  \n",
       "4  TrialVipPopup      US        trial  "
      ]
     },
     "execution_count": 281,
     "metadata": {},
     "output_type": "execute_result"
    }
   ],
   "source": [
    "pay_df_test.head()"
   ]
  },
  {
   "cell_type": "code",
   "execution_count": 282,
   "id": "5d18d2f4",
   "metadata": {},
   "outputs": [
    {
     "name": "stdout",
     "output_type": "stream",
     "text": [
      "<class 'pandas.core.frame.DataFrame'>\n",
      "RangeIndex: 273 entries, 0 to 272\n",
      "Data columns (total 8 columns):\n",
      " #   Column              Non-Null Count  Dtype \n",
      "---  ------              --------------  ----- \n",
      " 0   user_id             273 non-null    int64 \n",
      " 1   registration_date   273 non-null    object\n",
      " 2   payment_date        273 non-null    object\n",
      " 3   revenue             273 non-null    int64 \n",
      " 4   payment_service_id  273 non-null    int64 \n",
      " 5   place               273 non-null    object\n",
      " 6   country             273 non-null    object\n",
      " 7   product_type        273 non-null    object\n",
      "dtypes: int64(3), object(5)\n",
      "memory usage: 17.2+ KB\n"
     ]
    }
   ],
   "source": [
    "pay_df_test.info()"
   ]
  },
  {
   "cell_type": "markdown",
   "id": "de7d43ca",
   "metadata": {},
   "source": [
    "Посмотрим, есть ли в данных дубликаты и избавимся от них, если таковые имеются"
   ]
  },
  {
   "cell_type": "code",
   "execution_count": 283,
   "id": "3b512851",
   "metadata": {},
   "outputs": [
    {
     "data": {
      "text/plain": [
       "21"
      ]
     },
     "execution_count": 283,
     "metadata": {},
     "output_type": "execute_result"
    }
   ],
   "source": [
    "pay_df_1.duplicated().sum()"
   ]
  },
  {
   "cell_type": "code",
   "execution_count": 284,
   "id": "33089c9d",
   "metadata": {},
   "outputs": [
    {
     "data": {
      "text/plain": [
       "5"
      ]
     },
     "execution_count": 284,
     "metadata": {},
     "output_type": "execute_result"
    }
   ],
   "source": [
    "pay_df_2.duplicated().sum()"
   ]
  },
  {
   "cell_type": "code",
   "execution_count": 285,
   "id": "24184940",
   "metadata": {},
   "outputs": [
    {
     "data": {
      "text/plain": [
       "7"
      ]
     },
     "execution_count": 285,
     "metadata": {},
     "output_type": "execute_result"
    }
   ],
   "source": [
    "pay_df_test.duplicated().sum()"
   ]
  },
  {
   "cell_type": "code",
   "execution_count": 286,
   "id": "25d52642",
   "metadata": {},
   "outputs": [],
   "source": [
    "pay_df_1 = pay_df_1.drop_duplicates().reset_index(drop=True)\n",
    "pay_df_2 = pay_df_2.drop_duplicates().reset_index(drop=True)\n",
    "pay_df_test = pay_df_test.drop_duplicates().reset_index(drop=True)"
   ]
  },
  {
   "cell_type": "code",
   "execution_count": 287,
   "id": "d217dcac",
   "metadata": {},
   "outputs": [
    {
     "data": {
      "text/plain": [
       "0"
      ]
     },
     "execution_count": 287,
     "metadata": {},
     "output_type": "execute_result"
    }
   ],
   "source": [
    "pay_df_1.duplicated().sum()"
   ]
  },
  {
   "cell_type": "code",
   "execution_count": 288,
   "id": "225c1c47",
   "metadata": {},
   "outputs": [
    {
     "data": {
      "text/plain": [
       "0"
      ]
     },
     "execution_count": 288,
     "metadata": {},
     "output_type": "execute_result"
    }
   ],
   "source": [
    "pay_df_2.duplicated().sum()"
   ]
  },
  {
   "cell_type": "code",
   "execution_count": 289,
   "id": "abc4b08e",
   "metadata": {},
   "outputs": [
    {
     "data": {
      "text/plain": [
       "0"
      ]
     },
     "execution_count": 289,
     "metadata": {},
     "output_type": "execute_result"
    }
   ],
   "source": [
    "pay_df_test.duplicated().sum()"
   ]
  },
  {
   "cell_type": "markdown",
   "id": "4972e02f",
   "metadata": {},
   "source": [
    "Посчитаем выручку пользователей, у которых есть премиум подписка и узнаем, есть ли разница в выручке между пользователями контрольных групп и тестовой, а так же отношение выручки от премиум подписок ко всем видам выручки."
   ]
  },
  {
   "cell_type": "code",
   "execution_count": 290,
   "id": "b4250463",
   "metadata": {},
   "outputs": [],
   "source": [
    "def data_revenue(df, column='product_type'):\n",
    "    prem_revenue = df[df[column] == 'prem']['revenue'].sum()\n",
    "    total_revenue = df['revenue'].sum()\n",
    "    revenue_relation = prem_revenue / total_revenue\n",
    "    prem_count = df[df[column] == 'prem'][column].count()\n",
    "    trial_count = df[df[column] == 'trial'][column].count()\n",
    "    prem_relation = prem_count / df.shape[0]\n",
    "    print(f'Количество покупок премиум подписки - {prem_count}')\n",
    "    print(f'Количество пользователей с пробной подпиской - {trial_count}')\n",
    "    print(f'Отношение количества покупок премиум подписки ко всем покупкам - {prem_relation:.2%}')\n",
    "    print(f'Выручка выборки только с покупки премиум подписок - {prem_revenue}')\n",
    "    print(f'Общая выручка выборки со всех продуктов - {total_revenue}')\n",
    "    print(f'Отношение выручки премиум подписок к выручке всех продуктов - {revenue_relation:.2%}')"
   ]
  },
  {
   "cell_type": "code",
   "execution_count": 291,
   "id": "3bcbc318",
   "metadata": {
    "scrolled": true
   },
   "outputs": [
    {
     "name": "stdout",
     "output_type": "stream",
     "text": [
      "Количество покупок премиум подписки - 106\n",
      "Количество пользователей с пробной подпиской - 67\n",
      "Отношение количества покупок премиум подписки ко всем покупкам - 29.78%\n",
      "Выручка выборки только с покупки премиум подписок - 779259\n",
      "Общая выручка выборки со всех продуктов - 2494804\n",
      "Отношение выручки премиум подписок к выручке всех продуктов - 31.24%\n"
     ]
    }
   ],
   "source": [
    "data_revenue(pay_df_1)"
   ]
  },
  {
   "cell_type": "code",
   "execution_count": 292,
   "id": "4e8b8517",
   "metadata": {},
   "outputs": [
    {
     "name": "stdout",
     "output_type": "stream",
     "text": [
      "Количество покупок премиум подписки - 107\n",
      "Количество пользователей с пробной подпиской - 53\n",
      "Отношение количества покупок премиум подписки ко всем покупкам - 33.13%\n",
      "Выручка выборки только с покупки премиум подписок - 744809\n",
      "Общая выручка выборки со всех продуктов - 1907997\n",
      "Отношение выручки премиум подписок к выручке всех продуктов - 39.04%\n"
     ]
    }
   ],
   "source": [
    "data_revenue(pay_df_2)"
   ]
  },
  {
   "cell_type": "code",
   "execution_count": 293,
   "id": "b3c0b20f",
   "metadata": {},
   "outputs": [
    {
     "name": "stdout",
     "output_type": "stream",
     "text": [
      "Количество покупок премиум подписки - 76\n",
      "Количество пользователей с пробной подпиской - 62\n",
      "Отношение количества покупок премиум подписки ко всем покупкам - 28.57%\n",
      "Выручка выборки только с покупки премиум подписок - 810706\n",
      "Общая выручка выборки со всех продуктов - 2332226\n",
      "Отношение выручки премиум подписок к выручке всех продуктов - 34.76%\n"
     ]
    }
   ],
   "source": [
    "data_revenue(pay_df_test)"
   ]
  },
  {
   "cell_type": "markdown",
   "id": "a8e2a29c",
   "metadata": {},
   "source": [
    "Посмотрим, были ли такие пользователи, которые купили премиум подписку больше одного раза, либо не отменили ее."
   ]
  },
  {
   "cell_type": "code",
   "execution_count": 294,
   "id": "614f0d49",
   "metadata": {},
   "outputs": [],
   "source": [
    "def double_prem_users(df, column='product_type', column2='prem'):\n",
    "    pay_df_prem = df[df[column] == column2]\n",
    "    return pay_df_prem[pay_df_prem.duplicated(['user_id'], keep=False)].sort_values(by='user_id')"
   ]
  },
  {
   "cell_type": "code",
   "execution_count": 295,
   "id": "43071e25",
   "metadata": {
    "scrolled": true
   },
   "outputs": [
    {
     "data": {
      "text/html": [
       "<div>\n",
       "<style scoped>\n",
       "    .dataframe tbody tr th:only-of-type {\n",
       "        vertical-align: middle;\n",
       "    }\n",
       "\n",
       "    .dataframe tbody tr th {\n",
       "        vertical-align: top;\n",
       "    }\n",
       "\n",
       "    .dataframe thead th {\n",
       "        text-align: right;\n",
       "    }\n",
       "</style>\n",
       "<table border=\"1\" class=\"dataframe\">\n",
       "  <thead>\n",
       "    <tr style=\"text-align: right;\">\n",
       "      <th></th>\n",
       "      <th>user_id</th>\n",
       "      <th>registration_date</th>\n",
       "      <th>payment_date</th>\n",
       "      <th>revenue</th>\n",
       "      <th>payment_service_id</th>\n",
       "      <th>place</th>\n",
       "      <th>country</th>\n",
       "      <th>product_type</th>\n",
       "    </tr>\n",
       "  </thead>\n",
       "  <tbody>\n",
       "    <tr>\n",
       "      <th>135</th>\n",
       "      <td>891216033</td>\n",
       "      <td>07.11.2017 12:33</td>\n",
       "      <td>07.11.2017 12:47</td>\n",
       "      <td>6292</td>\n",
       "      <td>0</td>\n",
       "      <td>AutoReplyMessage</td>\n",
       "      <td>US</td>\n",
       "      <td>prem</td>\n",
       "    </tr>\n",
       "    <tr>\n",
       "      <th>258</th>\n",
       "      <td>891216033</td>\n",
       "      <td>07.11.2017 12:33</td>\n",
       "      <td>07.11.2017 12:47</td>\n",
       "      <td>6292</td>\n",
       "      <td>147</td>\n",
       "      <td>AutoReplyMessage</td>\n",
       "      <td>US</td>\n",
       "      <td>prem</td>\n",
       "    </tr>\n",
       "    <tr>\n",
       "      <th>219</th>\n",
       "      <td>891264903</td>\n",
       "      <td>06.11.2017 16:02</td>\n",
       "      <td>08.11.2017 22:32</td>\n",
       "      <td>3887</td>\n",
       "      <td>147</td>\n",
       "      <td>none</td>\n",
       "      <td>US</td>\n",
       "      <td>prem</td>\n",
       "    </tr>\n",
       "    <tr>\n",
       "      <th>331</th>\n",
       "      <td>891264903</td>\n",
       "      <td>06.11.2017 16:02</td>\n",
       "      <td>09.11.2017 10:32</td>\n",
       "      <td>3874</td>\n",
       "      <td>147</td>\n",
       "      <td>none</td>\n",
       "      <td>US</td>\n",
       "      <td>prem</td>\n",
       "    </tr>\n",
       "    <tr>\n",
       "      <th>235</th>\n",
       "      <td>891822480</td>\n",
       "      <td>26.10.2017 22:27</td>\n",
       "      <td>27.10.2017 23:29</td>\n",
       "      <td>1898</td>\n",
       "      <td>68</td>\n",
       "      <td>none</td>\n",
       "      <td>IT</td>\n",
       "      <td>prem</td>\n",
       "    </tr>\n",
       "    <tr>\n",
       "      <th>252</th>\n",
       "      <td>891822480</td>\n",
       "      <td>26.10.2017 22:27</td>\n",
       "      <td>07.11.2017 0:04</td>\n",
       "      <td>6292</td>\n",
       "      <td>147</td>\n",
       "      <td>promo.key31</td>\n",
       "      <td>IT</td>\n",
       "      <td>prem</td>\n",
       "    </tr>\n",
       "    <tr>\n",
       "      <th>203</th>\n",
       "      <td>892101909</td>\n",
       "      <td>21.10.2017 3:28</td>\n",
       "      <td>21.10.2017 3:39</td>\n",
       "      <td>6422</td>\n",
       "      <td>147</td>\n",
       "      <td>none</td>\n",
       "      <td>FR</td>\n",
       "      <td>prem</td>\n",
       "    </tr>\n",
       "    <tr>\n",
       "      <th>327</th>\n",
       "      <td>892101909</td>\n",
       "      <td>21.10.2017 3:28</td>\n",
       "      <td>21.10.2017 3:39</td>\n",
       "      <td>6422</td>\n",
       "      <td>0</td>\n",
       "      <td>none</td>\n",
       "      <td>FR</td>\n",
       "      <td>prem</td>\n",
       "    </tr>\n",
       "    <tr>\n",
       "      <th>201</th>\n",
       "      <td>892290105</td>\n",
       "      <td>16.10.2017 22:03</td>\n",
       "      <td>21.10.2017 22:30</td>\n",
       "      <td>4537</td>\n",
       "      <td>147</td>\n",
       "      <td>PopularUserBlockDialog</td>\n",
       "      <td>US</td>\n",
       "      <td>prem</td>\n",
       "    </tr>\n",
       "    <tr>\n",
       "      <th>259</th>\n",
       "      <td>892290105</td>\n",
       "      <td>16.10.2017 22:03</td>\n",
       "      <td>23.10.2017 12:50</td>\n",
       "      <td>6292</td>\n",
       "      <td>147</td>\n",
       "      <td>promo.key31</td>\n",
       "      <td>US</td>\n",
       "      <td>prem</td>\n",
       "    </tr>\n",
       "    <tr>\n",
       "      <th>83</th>\n",
       "      <td>892366260</td>\n",
       "      <td>15.10.2017 15:04</td>\n",
       "      <td>15.10.2017 15:49</td>\n",
       "      <td>6292</td>\n",
       "      <td>147</td>\n",
       "      <td>LeftMenu</td>\n",
       "      <td>GB</td>\n",
       "      <td>prem</td>\n",
       "    </tr>\n",
       "    <tr>\n",
       "      <th>100</th>\n",
       "      <td>892366260</td>\n",
       "      <td>15.10.2017 15:04</td>\n",
       "      <td>14.11.2017 16:50</td>\n",
       "      <td>6292</td>\n",
       "      <td>147</td>\n",
       "      <td>LeftMenu</td>\n",
       "      <td>GB</td>\n",
       "      <td>prem</td>\n",
       "    </tr>\n",
       "    <tr>\n",
       "      <th>42</th>\n",
       "      <td>892393119</td>\n",
       "      <td>15.10.2017 0:34</td>\n",
       "      <td>21.10.2017 13:10</td>\n",
       "      <td>1807</td>\n",
       "      <td>68</td>\n",
       "      <td>none</td>\n",
       "      <td>IT</td>\n",
       "      <td>prem</td>\n",
       "    </tr>\n",
       "    <tr>\n",
       "      <th>138</th>\n",
       "      <td>892393119</td>\n",
       "      <td>15.10.2017 0:34</td>\n",
       "      <td>21.10.2017 13:09</td>\n",
       "      <td>1807</td>\n",
       "      <td>68</td>\n",
       "      <td>none</td>\n",
       "      <td>IT</td>\n",
       "      <td>prem</td>\n",
       "    </tr>\n",
       "  </tbody>\n",
       "</table>\n",
       "</div>"
      ],
      "text/plain": [
       "       user_id registration_date      payment_date  revenue  \\\n",
       "135  891216033  07.11.2017 12:33  07.11.2017 12:47     6292   \n",
       "258  891216033  07.11.2017 12:33  07.11.2017 12:47     6292   \n",
       "219  891264903  06.11.2017 16:02  08.11.2017 22:32     3887   \n",
       "331  891264903  06.11.2017 16:02  09.11.2017 10:32     3874   \n",
       "235  891822480  26.10.2017 22:27  27.10.2017 23:29     1898   \n",
       "252  891822480  26.10.2017 22:27   07.11.2017 0:04     6292   \n",
       "203  892101909   21.10.2017 3:28   21.10.2017 3:39     6422   \n",
       "327  892101909   21.10.2017 3:28   21.10.2017 3:39     6422   \n",
       "201  892290105  16.10.2017 22:03  21.10.2017 22:30     4537   \n",
       "259  892290105  16.10.2017 22:03  23.10.2017 12:50     6292   \n",
       "83   892366260  15.10.2017 15:04  15.10.2017 15:49     6292   \n",
       "100  892366260  15.10.2017 15:04  14.11.2017 16:50     6292   \n",
       "42   892393119   15.10.2017 0:34  21.10.2017 13:10     1807   \n",
       "138  892393119   15.10.2017 0:34  21.10.2017 13:09     1807   \n",
       "\n",
       "     payment_service_id                   place country product_type  \n",
       "135                   0        AutoReplyMessage      US         prem  \n",
       "258                 147        AutoReplyMessage      US         prem  \n",
       "219                 147                    none      US         prem  \n",
       "331                 147                    none      US         prem  \n",
       "235                  68                    none      IT         prem  \n",
       "252                 147             promo.key31      IT         prem  \n",
       "203                 147                    none      FR         prem  \n",
       "327                   0                    none      FR         prem  \n",
       "201                 147  PopularUserBlockDialog      US         prem  \n",
       "259                 147             promo.key31      US         prem  \n",
       "83                  147                LeftMenu      GB         prem  \n",
       "100                 147                LeftMenu      GB         prem  \n",
       "42                   68                    none      IT         prem  \n",
       "138                  68                    none      IT         prem  "
      ]
     },
     "execution_count": 295,
     "metadata": {},
     "output_type": "execute_result"
    }
   ],
   "source": [
    "double_prem_users(pay_df_1)"
   ]
  },
  {
   "cell_type": "code",
   "execution_count": 296,
   "id": "bc294bd1",
   "metadata": {
    "scrolled": true
   },
   "outputs": [
    {
     "data": {
      "text/html": [
       "<div>\n",
       "<style scoped>\n",
       "    .dataframe tbody tr th:only-of-type {\n",
       "        vertical-align: middle;\n",
       "    }\n",
       "\n",
       "    .dataframe tbody tr th {\n",
       "        vertical-align: top;\n",
       "    }\n",
       "\n",
       "    .dataframe thead th {\n",
       "        text-align: right;\n",
       "    }\n",
       "</style>\n",
       "<table border=\"1\" class=\"dataframe\">\n",
       "  <thead>\n",
       "    <tr style=\"text-align: right;\">\n",
       "      <th></th>\n",
       "      <th>user_id</th>\n",
       "      <th>registration_date</th>\n",
       "      <th>payment_date</th>\n",
       "      <th>revenue</th>\n",
       "      <th>payment_service_id</th>\n",
       "      <th>place</th>\n",
       "      <th>country</th>\n",
       "      <th>product_type</th>\n",
       "    </tr>\n",
       "  </thead>\n",
       "  <tbody>\n",
       "    <tr>\n",
       "      <th>89</th>\n",
       "      <td>891219540</td>\n",
       "      <td>07.11.2017 10:50</td>\n",
       "      <td>07.11.2017 10:58</td>\n",
       "      <td>4719</td>\n",
       "      <td>0</td>\n",
       "      <td>none</td>\n",
       "      <td>AU</td>\n",
       "      <td>prem</td>\n",
       "    </tr>\n",
       "    <tr>\n",
       "      <th>143</th>\n",
       "      <td>891219540</td>\n",
       "      <td>07.11.2017 10:50</td>\n",
       "      <td>07.11.2017 10:58</td>\n",
       "      <td>4719</td>\n",
       "      <td>147</td>\n",
       "      <td>none</td>\n",
       "      <td>AU</td>\n",
       "      <td>prem</td>\n",
       "    </tr>\n",
       "    <tr>\n",
       "      <th>276</th>\n",
       "      <td>891637005</td>\n",
       "      <td>30.10.2017 15:22</td>\n",
       "      <td>02.11.2017 13:39</td>\n",
       "      <td>6396</td>\n",
       "      <td>147</td>\n",
       "      <td>LeftMenu</td>\n",
       "      <td>ES</td>\n",
       "      <td>prem</td>\n",
       "    </tr>\n",
       "    <tr>\n",
       "      <th>288</th>\n",
       "      <td>891637005</td>\n",
       "      <td>30.10.2017 15:22</td>\n",
       "      <td>02.11.2017 13:38</td>\n",
       "      <td>6292</td>\n",
       "      <td>147</td>\n",
       "      <td>LeftMenu</td>\n",
       "      <td>ES</td>\n",
       "      <td>prem</td>\n",
       "    </tr>\n",
       "    <tr>\n",
       "      <th>13</th>\n",
       "      <td>892139829</td>\n",
       "      <td>20.10.2017 8:38</td>\n",
       "      <td>20.10.2017 8:41</td>\n",
       "      <td>5135</td>\n",
       "      <td>147</td>\n",
       "      <td>AutoReplyMessage</td>\n",
       "      <td>GB</td>\n",
       "      <td>prem</td>\n",
       "    </tr>\n",
       "    <tr>\n",
       "      <th>195</th>\n",
       "      <td>892139829</td>\n",
       "      <td>20.10.2017 8:38</td>\n",
       "      <td>23.10.2017 13:54</td>\n",
       "      <td>5161</td>\n",
       "      <td>147</td>\n",
       "      <td>promo.key31</td>\n",
       "      <td>GB</td>\n",
       "      <td>prem</td>\n",
       "    </tr>\n",
       "    <tr>\n",
       "      <th>244</th>\n",
       "      <td>892139829</td>\n",
       "      <td>20.10.2017 8:38</td>\n",
       "      <td>22.10.2017 12:44</td>\n",
       "      <td>5161</td>\n",
       "      <td>147</td>\n",
       "      <td>promo.key31</td>\n",
       "      <td>GB</td>\n",
       "      <td>prem</td>\n",
       "    </tr>\n",
       "    <tr>\n",
       "      <th>29</th>\n",
       "      <td>892435536</td>\n",
       "      <td>14.10.2017 2:54</td>\n",
       "      <td>14.10.2017 2:57</td>\n",
       "      <td>4537</td>\n",
       "      <td>147</td>\n",
       "      <td>Dating</td>\n",
       "      <td>US</td>\n",
       "      <td>prem</td>\n",
       "    </tr>\n",
       "    <tr>\n",
       "      <th>194</th>\n",
       "      <td>892435536</td>\n",
       "      <td>14.10.2017 2:54</td>\n",
       "      <td>14.11.2017 4:57</td>\n",
       "      <td>4537</td>\n",
       "      <td>147</td>\n",
       "      <td>Dating</td>\n",
       "      <td>US</td>\n",
       "      <td>prem</td>\n",
       "    </tr>\n",
       "  </tbody>\n",
       "</table>\n",
       "</div>"
      ],
      "text/plain": [
       "       user_id registration_date      payment_date  revenue  \\\n",
       "89   891219540  07.11.2017 10:50  07.11.2017 10:58     4719   \n",
       "143  891219540  07.11.2017 10:50  07.11.2017 10:58     4719   \n",
       "276  891637005  30.10.2017 15:22  02.11.2017 13:39     6396   \n",
       "288  891637005  30.10.2017 15:22  02.11.2017 13:38     6292   \n",
       "13   892139829   20.10.2017 8:38   20.10.2017 8:41     5135   \n",
       "195  892139829   20.10.2017 8:38  23.10.2017 13:54     5161   \n",
       "244  892139829   20.10.2017 8:38  22.10.2017 12:44     5161   \n",
       "29   892435536   14.10.2017 2:54   14.10.2017 2:57     4537   \n",
       "194  892435536   14.10.2017 2:54   14.11.2017 4:57     4537   \n",
       "\n",
       "     payment_service_id             place country product_type  \n",
       "89                    0              none      AU         prem  \n",
       "143                 147              none      AU         prem  \n",
       "276                 147          LeftMenu      ES         prem  \n",
       "288                 147          LeftMenu      ES         prem  \n",
       "13                  147  AutoReplyMessage      GB         prem  \n",
       "195                 147       promo.key31      GB         prem  \n",
       "244                 147       promo.key31      GB         prem  \n",
       "29                  147            Dating      US         prem  \n",
       "194                 147            Dating      US         prem  "
      ]
     },
     "execution_count": 296,
     "metadata": {},
     "output_type": "execute_result"
    }
   ],
   "source": [
    "double_prem_users(pay_df_2)"
   ]
  },
  {
   "cell_type": "code",
   "execution_count": 297,
   "id": "e3220484",
   "metadata": {},
   "outputs": [
    {
     "data": {
      "text/html": [
       "<div>\n",
       "<style scoped>\n",
       "    .dataframe tbody tr th:only-of-type {\n",
       "        vertical-align: middle;\n",
       "    }\n",
       "\n",
       "    .dataframe tbody tr th {\n",
       "        vertical-align: top;\n",
       "    }\n",
       "\n",
       "    .dataframe thead th {\n",
       "        text-align: right;\n",
       "    }\n",
       "</style>\n",
       "<table border=\"1\" class=\"dataframe\">\n",
       "  <thead>\n",
       "    <tr style=\"text-align: right;\">\n",
       "      <th></th>\n",
       "      <th>user_id</th>\n",
       "      <th>registration_date</th>\n",
       "      <th>payment_date</th>\n",
       "      <th>revenue</th>\n",
       "      <th>payment_service_id</th>\n",
       "      <th>place</th>\n",
       "      <th>country</th>\n",
       "      <th>product_type</th>\n",
       "    </tr>\n",
       "  </thead>\n",
       "  <tbody>\n",
       "    <tr>\n",
       "      <th>149</th>\n",
       "      <td>891725043</td>\n",
       "      <td>29.10.2017 0:49</td>\n",
       "      <td>29.10.2017 7:48</td>\n",
       "      <td>9217</td>\n",
       "      <td>147</td>\n",
       "      <td>none</td>\n",
       "      <td>AE</td>\n",
       "      <td>prem</td>\n",
       "    </tr>\n",
       "    <tr>\n",
       "      <th>214</th>\n",
       "      <td>891725043</td>\n",
       "      <td>29.10.2017 0:49</td>\n",
       "      <td>29.10.2017 7:48</td>\n",
       "      <td>9217</td>\n",
       "      <td>0</td>\n",
       "      <td>none</td>\n",
       "      <td>AE</td>\n",
       "      <td>prem</td>\n",
       "    </tr>\n",
       "    <tr>\n",
       "      <th>11</th>\n",
       "      <td>891861048</td>\n",
       "      <td>26.10.2017 2:55</td>\n",
       "      <td>10.11.2017 19:00</td>\n",
       "      <td>3588</td>\n",
       "      <td>68</td>\n",
       "      <td>none</td>\n",
       "      <td>CA</td>\n",
       "      <td>prem</td>\n",
       "    </tr>\n",
       "    <tr>\n",
       "      <th>228</th>\n",
       "      <td>891861048</td>\n",
       "      <td>26.10.2017 2:55</td>\n",
       "      <td>26.10.2017 3:00</td>\n",
       "      <td>3588</td>\n",
       "      <td>68</td>\n",
       "      <td>none</td>\n",
       "      <td>CA</td>\n",
       "      <td>prem</td>\n",
       "    </tr>\n",
       "    <tr>\n",
       "      <th>38</th>\n",
       "      <td>892065108</td>\n",
       "      <td>21.10.2017 20:40</td>\n",
       "      <td>08.11.2017 22:45</td>\n",
       "      <td>7098</td>\n",
       "      <td>147</td>\n",
       "      <td>PopularUserChatBlock</td>\n",
       "      <td>FR</td>\n",
       "      <td>prem</td>\n",
       "    </tr>\n",
       "    <tr>\n",
       "      <th>181</th>\n",
       "      <td>892065108</td>\n",
       "      <td>21.10.2017 20:40</td>\n",
       "      <td>09.11.2017 10:45</td>\n",
       "      <td>7098</td>\n",
       "      <td>147</td>\n",
       "      <td>PopularUserChatBlock</td>\n",
       "      <td>FR</td>\n",
       "      <td>prem</td>\n",
       "    </tr>\n",
       "    <tr>\n",
       "      <th>207</th>\n",
       "      <td>892065108</td>\n",
       "      <td>21.10.2017 20:40</td>\n",
       "      <td>10.11.2017 15:24</td>\n",
       "      <td>7111</td>\n",
       "      <td>147</td>\n",
       "      <td>PopularUserChatBlock</td>\n",
       "      <td>FR</td>\n",
       "      <td>prem</td>\n",
       "    </tr>\n",
       "    <tr>\n",
       "      <th>78</th>\n",
       "      <td>892097937</td>\n",
       "      <td>21.10.2017 6:24</td>\n",
       "      <td>31.10.2017 3:22</td>\n",
       "      <td>8086</td>\n",
       "      <td>147</td>\n",
       "      <td>PopularUserChatBlock</td>\n",
       "      <td>CL</td>\n",
       "      <td>prem</td>\n",
       "    </tr>\n",
       "    <tr>\n",
       "      <th>118</th>\n",
       "      <td>892097937</td>\n",
       "      <td>21.10.2017 6:24</td>\n",
       "      <td>22.10.2017 12:58</td>\n",
       "      <td>8216</td>\n",
       "      <td>147</td>\n",
       "      <td>PopularUserChatBlock</td>\n",
       "      <td>CL</td>\n",
       "      <td>prem</td>\n",
       "    </tr>\n",
       "    <tr>\n",
       "      <th>167</th>\n",
       "      <td>892097937</td>\n",
       "      <td>21.10.2017 6:24</td>\n",
       "      <td>23.10.2017 13:56</td>\n",
       "      <td>8229</td>\n",
       "      <td>147</td>\n",
       "      <td>PopularUserChatBlock</td>\n",
       "      <td>CL</td>\n",
       "      <td>prem</td>\n",
       "    </tr>\n",
       "    <tr>\n",
       "      <th>55</th>\n",
       "      <td>892261437</td>\n",
       "      <td>17.10.2017 14:22</td>\n",
       "      <td>06.11.2017 11:51</td>\n",
       "      <td>1898</td>\n",
       "      <td>68</td>\n",
       "      <td>none</td>\n",
       "      <td>IT</td>\n",
       "      <td>prem</td>\n",
       "    </tr>\n",
       "    <tr>\n",
       "      <th>111</th>\n",
       "      <td>892261437</td>\n",
       "      <td>17.10.2017 14:22</td>\n",
       "      <td>26.10.2017 16:06</td>\n",
       "      <td>1937</td>\n",
       "      <td>68</td>\n",
       "      <td>none</td>\n",
       "      <td>IT</td>\n",
       "      <td>prem</td>\n",
       "    </tr>\n",
       "    <tr>\n",
       "      <th>34</th>\n",
       "      <td>892339626</td>\n",
       "      <td>15.10.2017 23:21</td>\n",
       "      <td>29.10.2017 7:51</td>\n",
       "      <td>2574</td>\n",
       "      <td>68</td>\n",
       "      <td>none</td>\n",
       "      <td>US</td>\n",
       "      <td>prem</td>\n",
       "    </tr>\n",
       "    <tr>\n",
       "      <th>102</th>\n",
       "      <td>892339626</td>\n",
       "      <td>15.10.2017 23:21</td>\n",
       "      <td>11.11.2017 1:05</td>\n",
       "      <td>2587</td>\n",
       "      <td>68</td>\n",
       "      <td>none</td>\n",
       "      <td>US</td>\n",
       "      <td>prem</td>\n",
       "    </tr>\n",
       "    <tr>\n",
       "      <th>120</th>\n",
       "      <td>892339626</td>\n",
       "      <td>15.10.2017 23:21</td>\n",
       "      <td>17.10.2017 18:58</td>\n",
       "      <td>2613</td>\n",
       "      <td>68</td>\n",
       "      <td>none</td>\n",
       "      <td>US</td>\n",
       "      <td>prem</td>\n",
       "    </tr>\n",
       "  </tbody>\n",
       "</table>\n",
       "</div>"
      ],
      "text/plain": [
       "       user_id registration_date      payment_date  revenue  \\\n",
       "149  891725043   29.10.2017 0:49   29.10.2017 7:48     9217   \n",
       "214  891725043   29.10.2017 0:49   29.10.2017 7:48     9217   \n",
       "11   891861048   26.10.2017 2:55  10.11.2017 19:00     3588   \n",
       "228  891861048   26.10.2017 2:55   26.10.2017 3:00     3588   \n",
       "38   892065108  21.10.2017 20:40  08.11.2017 22:45     7098   \n",
       "181  892065108  21.10.2017 20:40  09.11.2017 10:45     7098   \n",
       "207  892065108  21.10.2017 20:40  10.11.2017 15:24     7111   \n",
       "78   892097937   21.10.2017 6:24   31.10.2017 3:22     8086   \n",
       "118  892097937   21.10.2017 6:24  22.10.2017 12:58     8216   \n",
       "167  892097937   21.10.2017 6:24  23.10.2017 13:56     8229   \n",
       "55   892261437  17.10.2017 14:22  06.11.2017 11:51     1898   \n",
       "111  892261437  17.10.2017 14:22  26.10.2017 16:06     1937   \n",
       "34   892339626  15.10.2017 23:21   29.10.2017 7:51     2574   \n",
       "102  892339626  15.10.2017 23:21   11.11.2017 1:05     2587   \n",
       "120  892339626  15.10.2017 23:21  17.10.2017 18:58     2613   \n",
       "\n",
       "     payment_service_id                 place country product_type  \n",
       "149                 147                  none      AE         prem  \n",
       "214                   0                  none      AE         prem  \n",
       "11                   68                  none      CA         prem  \n",
       "228                  68                  none      CA         prem  \n",
       "38                  147  PopularUserChatBlock      FR         prem  \n",
       "181                 147  PopularUserChatBlock      FR         prem  \n",
       "207                 147  PopularUserChatBlock      FR         prem  \n",
       "78                  147  PopularUserChatBlock      CL         prem  \n",
       "118                 147  PopularUserChatBlock      CL         prem  \n",
       "167                 147  PopularUserChatBlock      CL         prem  \n",
       "55                   68                  none      IT         prem  \n",
       "111                  68                  none      IT         prem  \n",
       "34                   68                  none      US         prem  \n",
       "102                  68                  none      US         prem  \n",
       "120                  68                  none      US         prem  "
      ]
     },
     "execution_count": 297,
     "metadata": {},
     "output_type": "execute_result"
    }
   ],
   "source": [
    "double_prem_users(pay_df_test)"
   ]
  },
  {
   "cell_type": "markdown",
   "id": "dd900771",
   "metadata": {},
   "source": [
    "Посмотрим, из каких стран пользователи пользуются приложением и посчитаем, какую долю каждая страна занимает среди других."
   ]
  },
  {
   "cell_type": "code",
   "execution_count": 298,
   "id": "1ec68926",
   "metadata": {},
   "outputs": [
    {
     "data": {
      "text/plain": [
       "array(['FR', 'IL', 'IT', 'US', 'AU', 'CL', 'IN', 'AE', 'GB', 'AR', 'CH',\n",
       "       'CA', 'TR', 'PT', 'DE', 'RU', 'ES', 'BE'], dtype=object)"
      ]
     },
     "execution_count": 298,
     "metadata": {},
     "output_type": "execute_result"
    }
   ],
   "source": [
    "pay_df_1['country'].unique()"
   ]
  },
  {
   "cell_type": "code",
   "execution_count": 299,
   "id": "250ffcb8",
   "metadata": {},
   "outputs": [
    {
     "data": {
      "text/plain": [
       "US    100\n",
       "IT     54\n",
       "FR     37\n",
       "GB     30\n",
       "AR     27\n",
       "IL     21\n",
       "CL     15\n",
       "CA     14\n",
       "ES     14\n",
       "AE     12\n",
       "DE      7\n",
       "TR      6\n",
       "PT      4\n",
       "BE      4\n",
       "AU      3\n",
       "CH      3\n",
       "RU      3\n",
       "IN      2\n",
       "Name: country, dtype: int64"
      ]
     },
     "execution_count": 299,
     "metadata": {},
     "output_type": "execute_result"
    }
   ],
   "source": [
    "pay_df_1['country'].value_counts()"
   ]
  },
  {
   "cell_type": "code",
   "execution_count": 300,
   "id": "7674adca",
   "metadata": {},
   "outputs": [],
   "source": [
    "def country_involved_relation(df, column='country'):\n",
    "    values_frame = df[column].value_counts(normalize=True).to_frame()\n",
    "    big = values_frame[values_frame['country'] > 0.04]['country'].to_frame()\n",
    "    others = values_frame[values_frame['country'] < 0.04]['country'].sum()\n",
    "    new_row = pd.Series(data={'country':others}, name='others')\n",
    "    big = big.append(new_row, ignore_index=False)\n",
    "    return big.plot(kind='pie', y='country', figsize=(6,6))\n",
    "    "
   ]
  },
  {
   "cell_type": "code",
   "execution_count": 301,
   "id": "892b17e3",
   "metadata": {},
   "outputs": [
    {
     "name": "stderr",
     "output_type": "stream",
     "text": [
      "C:\\Users\\A947\\AppData\\Local\\Temp\\ipykernel_9804\\2424751566.py:6: FutureWarning: The frame.append method is deprecated and will be removed from pandas in a future version. Use pandas.concat instead.\n",
      "  big = big.append(new_row, ignore_index=False)\n"
     ]
    },
    {
     "data": {
      "text/plain": [
       "<AxesSubplot:ylabel='country'>"
      ]
     },
     "execution_count": 301,
     "metadata": {},
     "output_type": "execute_result"
    },
    {
     "data": {
      "image/png": "[encoded data removed]",
      "text/plain": [
       "<Figure size 432x432 with 1 Axes>"
      ]
     },
     "metadata": {},
     "output_type": "display_data"
    }
   ],
   "source": [
    "country_involved_relation(pay_df_1)"
   ]
  },
  {
   "cell_type": "code",
   "execution_count": 302,
   "id": "4deabb49",
   "metadata": {},
   "outputs": [
    {
     "name": "stderr",
     "output_type": "stream",
     "text": [
      "C:\\Users\\A947\\AppData\\Local\\Temp\\ipykernel_9804\\2424751566.py:6: FutureWarning: The frame.append method is deprecated and will be removed from pandas in a future version. Use pandas.concat instead.\n",
      "  big = big.append(new_row, ignore_index=False)\n"
     ]
    },
    {
     "data": {
      "text/plain": [
       "<AxesSubplot:ylabel='country'>"
      ]
     },
     "execution_count": 302,
     "metadata": {},
     "output_type": "execute_result"
    },
    {
     "data": {
      "image/png": "[encoded data removed]",
      "text/plain": [
       "<Figure size 432x432 with 1 Axes>"
      ]
     },
     "metadata": {},
     "output_type": "display_data"
    }
   ],
   "source": [
    "country_involved_relation(pay_df_2)"
   ]
  },
  {
   "cell_type": "code",
   "execution_count": 303,
   "id": "e74bbd9e",
   "metadata": {},
   "outputs": [
    {
     "name": "stderr",
     "output_type": "stream",
     "text": [
      "C:\\Users\\A947\\AppData\\Local\\Temp\\ipykernel_9804\\2424751566.py:6: FutureWarning: The frame.append method is deprecated and will be removed from pandas in a future version. Use pandas.concat instead.\n",
      "  big = big.append(new_row, ignore_index=False)\n"
     ]
    },
    {
     "data": {
      "text/plain": [
       "<AxesSubplot:ylabel='country'>"
      ]
     },
     "execution_count": 303,
     "metadata": {},
     "output_type": "execute_result"
    },
    {
     "data": {
      "image/png": "[encoded data removed]",
      "text/plain": [
       "<Figure size 432x432 with 1 Axes>"
      ]
     },
     "metadata": {},
     "output_type": "display_data"
    }
   ],
   "source": [
    "country_involved_relation(pay_df_test)"
   ]
  },
  {
   "cell_type": "markdown",
   "id": "2b2e74ae",
   "metadata": {},
   "source": [
    "Тройка лидеров - США, Италия и Франция. Хоть Испания и стоит на третьем месте в одной из контрольных групп и в тестовой группе, но показывает нестабильность, оказавшись на девятом месте в первой контрольной выборке.\n",
    "\n",
    "Посмотрим, повторяется ли данная картина для пользователей, покупающих премиум подписки."
   ]
  },
  {
   "cell_type": "code",
   "execution_count": 304,
   "id": "1a965a45",
   "metadata": {},
   "outputs": [],
   "source": [
    "#def prem_country_involved_relation(df, column='product_type', column2='prem'):\n",
    " #   pay_df_prem = df[df[column] == column2]\n",
    "  #  return country_involved_relation(pay_df_prem)\n",
    "\n",
    "def prem_country_involved_relation(df, column='country'):\n",
    "    pay_df_prem = df[df['product_type'] == 'prem']\n",
    "    values_frame = pay_df_prem[column].value_counts(normalize=True).to_frame()\n",
    "    big = values_frame[values_frame['country'] > 0.04]['country'].to_frame()\n",
    "    others = values_frame[values_frame['country'] < 0.04]['country'].sum()\n",
    "    new_row = pd.Series(data={'country':others}, name='others')\n",
    "    big = big.append(new_row, ignore_index=False)\n",
    "    return big.plot(kind='pie', y='country', figsize=(6,6))"
   ]
  },
  {
   "cell_type": "code",
   "execution_count": 305,
   "id": "2338632d",
   "metadata": {},
   "outputs": [
    {
     "name": "stderr",
     "output_type": "stream",
     "text": [
      "C:\\Users\\A947\\AppData\\Local\\Temp\\ipykernel_9804\\3712755017.py:11: FutureWarning: The frame.append method is deprecated and will be removed from pandas in a future version. Use pandas.concat instead.\n",
      "  big = big.append(new_row, ignore_index=False)\n"
     ]
    },
    {
     "data": {
      "text/plain": [
       "<AxesSubplot:ylabel='country'>"
      ]
     },
     "execution_count": 305,
     "metadata": {},
     "output_type": "execute_result"
    },
    {
     "data": {
      "image/png": "[encoded data removed]",
      "text/plain": [
       "<Figure size 432x432 with 1 Axes>"
      ]
     },
     "metadata": {},
     "output_type": "display_data"
    }
   ],
   "source": [
    "prem_country_involved_relation(pay_df_1)"
   ]
  },
  {
   "cell_type": "code",
   "execution_count": 306,
   "id": "41cec158",
   "metadata": {},
   "outputs": [
    {
     "name": "stderr",
     "output_type": "stream",
     "text": [
      "C:\\Users\\A947\\AppData\\Local\\Temp\\ipykernel_9804\\3712755017.py:11: FutureWarning: The frame.append method is deprecated and will be removed from pandas in a future version. Use pandas.concat instead.\n",
      "  big = big.append(new_row, ignore_index=False)\n"
     ]
    },
    {
     "data": {
      "text/plain": [
       "<AxesSubplot:ylabel='country'>"
      ]
     },
     "execution_count": 306,
     "metadata": {},
     "output_type": "execute_result"
    },
    {
     "data": {
      "image/png": "[encoded data removed]",
      "text/plain": [
       "<Figure size 432x432 with 1 Axes>"
      ]
     },
     "metadata": {},
     "output_type": "display_data"
    }
   ],
   "source": [
    "prem_country_involved_relation(pay_df_2)"
   ]
  },
  {
   "cell_type": "code",
   "execution_count": 307,
   "id": "a35f3e76",
   "metadata": {},
   "outputs": [
    {
     "name": "stderr",
     "output_type": "stream",
     "text": [
      "C:\\Users\\A947\\AppData\\Local\\Temp\\ipykernel_9804\\3712755017.py:11: FutureWarning: The frame.append method is deprecated and will be removed from pandas in a future version. Use pandas.concat instead.\n",
      "  big = big.append(new_row, ignore_index=False)\n"
     ]
    },
    {
     "data": {
      "text/plain": [
       "<AxesSubplot:ylabel='country'>"
      ]
     },
     "execution_count": 307,
     "metadata": {},
     "output_type": "execute_result"
    },
    {
     "data": {
      "image/png": "[encoded data removed]",
      "text/plain": [
       "<Figure size 432x432 with 1 Axes>"
      ]
     },
     "metadata": {},
     "output_type": "display_data"
    }
   ],
   "source": [
    "prem_country_involved_relation(pay_df_test)"
   ]
  },
  {
   "cell_type": "markdown",
   "id": "6e8acc12",
   "metadata": {},
   "source": [
    "За общим снижением интереса к премиум подписке по завышенной стоимости, в топ тестовой выборки поднялись Арабские Эмираты.\n",
    "\n",
    "Мы могли наблюдать, что пользователи из этой страны не являлись самыми активными, находясь в середине общего списка платежей по странам, а также в середине списка платежей только по премиум подпискам. Тем не менее, после проведения теста, оказалось, что пользователи из этой страны оказались в топе заинтересованных пользователей, что позволяет сделать вывод о том, повышение стоимости подписки имеет смысл на пользователях из Арабских Эмиратов.\n",
    "\n",
    "Это может быть связано с тем, что жители этой страны считаются людьми с одним из самых больших достатков на душу населения и не испытывают проблем с тем, что подписка стоит в два раза больше."
   ]
  },
  {
   "cell_type": "markdown",
   "id": "9b643d5c",
   "metadata": {},
   "source": [
    "### Промежуточные результаты\n",
    "\n",
    "Результаты показали, что премиум подписки приносят, в среднем, приблизительно третью часть всей выручки.\n",
    "\n",
    "Можно увидеть, что на тестовой выборке количество пользователей, которые приобрели премиум подписку, меньше, чем на контрольных группах, что свидетельствует о том, что подавляющая масса пользователей менее заинтересована в такой покупке.\n",
    "\n",
    "Тем не менее, если смотреть на цифры, а не процентные соотношения то видно, что премиум подписки в тестовой группе принесли примерно равное контрольным группам количество выручки, даже несмотря на то, что таких пользователей ощутимо меньше.\n",
    "\n",
    "Было обнаружено, что пользователи из Арабских Эмиратов являются той группой, для которой введение двойной цены подписки будет целесообразным шагом.\n",
    "\n",
    "Таким образом, если судить по таблицам с платежами, то нельзя с уверенностью сказать, что эксперимент оказался удачным, необходимо заглянуть глубже и понять, есть ли еще группы пользователей, для которых удваивание цены будет оправдано.\n",
    "\n",
    "Следующим шагом соединим таблицы платежей и портретов пользователей, уберем ненужные столбцы и проведем финальный анализ, чтобы ответить на поставленные вопросы."
   ]
  },
  {
   "cell_type": "markdown",
   "id": "16c7408b",
   "metadata": {},
   "source": [
    "## 2. Осмотр, предобработка, исследование таблиц с портретами."
   ]
  },
  {
   "cell_type": "code",
   "execution_count": 308,
   "id": "3514ae16",
   "metadata": {},
   "outputs": [
    {
     "data": {
      "text/html": [
       "<div>\n",
       "<style scoped>\n",
       "    .dataframe tbody tr th:only-of-type {\n",
       "        vertical-align: middle;\n",
       "    }\n",
       "\n",
       "    .dataframe tbody tr th {\n",
       "        vertical-align: top;\n",
       "    }\n",
       "\n",
       "    .dataframe thead th {\n",
       "        text-align: right;\n",
       "    }\n",
       "</style>\n",
       "<table border=\"1\" class=\"dataframe\">\n",
       "  <thead>\n",
       "    <tr style=\"text-align: right;\">\n",
       "      <th></th>\n",
       "      <th>user_id</th>\n",
       "      <th>age</th>\n",
       "      <th>attraction_distribution</th>\n",
       "      <th>coins</th>\n",
       "      <th>country</th>\n",
       "      <th>retention_days</th>\n",
       "      <th>sex</th>\n",
       "      <th>user_dating.age_start</th>\n",
       "      <th>user_dating.age_end</th>\n",
       "      <th>view_count</th>\n",
       "      <th>was_special</th>\n",
       "      <th>is_special</th>\n",
       "      <th>total_revenue</th>\n",
       "    </tr>\n",
       "  </thead>\n",
       "  <tbody>\n",
       "    <tr>\n",
       "      <th>0</th>\n",
       "      <td>892319115</td>\n",
       "      <td>25</td>\n",
       "      <td>435</td>\n",
       "      <td>NaN</td>\n",
       "      <td>US</td>\n",
       "      <td>1,2,3,4,5,6</td>\n",
       "      <td>0</td>\n",
       "      <td>22</td>\n",
       "      <td>32</td>\n",
       "      <td>982</td>\n",
       "      <td>NaN</td>\n",
       "      <td>NaN</td>\n",
       "      <td>0</td>\n",
       "    </tr>\n",
       "    <tr>\n",
       "      <th>1</th>\n",
       "      <td>891248523</td>\n",
       "      <td>29</td>\n",
       "      <td>500</td>\n",
       "      <td>NaN</td>\n",
       "      <td>US</td>\n",
       "      <td>1,2</td>\n",
       "      <td>1</td>\n",
       "      <td>26</td>\n",
       "      <td>32</td>\n",
       "      <td>12</td>\n",
       "      <td>NaN</td>\n",
       "      <td>NaN</td>\n",
       "      <td>0</td>\n",
       "    </tr>\n",
       "    <tr>\n",
       "      <th>2</th>\n",
       "      <td>891670932</td>\n",
       "      <td>33</td>\n",
       "      <td>800</td>\n",
       "      <td>NaN</td>\n",
       "      <td>FR</td>\n",
       "      <td>1,2,3,5,6,8,9,11,13,16</td>\n",
       "      <td>1</td>\n",
       "      <td>30</td>\n",
       "      <td>36</td>\n",
       "      <td>5</td>\n",
       "      <td>NaN</td>\n",
       "      <td>NaN</td>\n",
       "      <td>0</td>\n",
       "    </tr>\n",
       "    <tr>\n",
       "      <th>3</th>\n",
       "      <td>891060786</td>\n",
       "      <td>26</td>\n",
       "      <td>0</td>\n",
       "      <td>NaN</td>\n",
       "      <td>AR</td>\n",
       "      <td>1,2,3,4,5</td>\n",
       "      <td>1</td>\n",
       "      <td>23</td>\n",
       "      <td>29</td>\n",
       "      <td>0</td>\n",
       "      <td>NaN</td>\n",
       "      <td>NaN</td>\n",
       "      <td>0</td>\n",
       "    </tr>\n",
       "    <tr>\n",
       "      <th>4</th>\n",
       "      <td>892006554</td>\n",
       "      <td>35</td>\n",
       "      <td>294</td>\n",
       "      <td>NaN</td>\n",
       "      <td>US</td>\n",
       "      <td>1,2,3,5,6,7,8,9,10,12,15,16,17,19</td>\n",
       "      <td>1</td>\n",
       "      <td>30</td>\n",
       "      <td>40</td>\n",
       "      <td>17</td>\n",
       "      <td>NaN</td>\n",
       "      <td>NaN</td>\n",
       "      <td>0</td>\n",
       "    </tr>\n",
       "  </tbody>\n",
       "</table>\n",
       "</div>"
      ],
      "text/plain": [
       "     user_id  age  attraction_distribution  coins country  \\\n",
       "0  892319115   25                      435    NaN      US   \n",
       "1  891248523   29                      500    NaN      US   \n",
       "2  891670932   33                      800    NaN      FR   \n",
       "3  891060786   26                        0    NaN      AR   \n",
       "4  892006554   35                      294    NaN      US   \n",
       "\n",
       "                      retention_days  sex  user_dating.age_start  \\\n",
       "0                        1,2,3,4,5,6    0                     22   \n",
       "1                                1,2    1                     26   \n",
       "2             1,2,3,5,6,8,9,11,13,16    1                     30   \n",
       "3                          1,2,3,4,5    1                     23   \n",
       "4  1,2,3,5,6,7,8,9,10,12,15,16,17,19    1                     30   \n",
       "\n",
       "   user_dating.age_end  view_count  was_special  is_special  total_revenue  \n",
       "0                   32         982          NaN         NaN              0  \n",
       "1                   32          12          NaN         NaN              0  \n",
       "2                   36           5          NaN         NaN              0  \n",
       "3                   29           0          NaN         NaN              0  \n",
       "4                   40          17          NaN         NaN              0  "
      ]
     },
     "execution_count": 308,
     "metadata": {},
     "output_type": "execute_result"
    }
   ],
   "source": [
    "portrait_df_1.head()"
   ]
  },
  {
   "cell_type": "code",
   "execution_count": 309,
   "id": "bbed4cd3",
   "metadata": {},
   "outputs": [
    {
     "name": "stdout",
     "output_type": "stream",
     "text": [
      "<class 'pandas.core.frame.DataFrame'>\n",
      "RangeIndex: 4340 entries, 0 to 4339\n",
      "Data columns (total 13 columns):\n",
      " #   Column                   Non-Null Count  Dtype  \n",
      "---  ------                   --------------  -----  \n",
      " 0   user_id                  4340 non-null   int64  \n",
      " 1   age                      4340 non-null   int64  \n",
      " 2   attraction_distribution  4340 non-null   int64  \n",
      " 3   coins                    60 non-null     float64\n",
      " 4   country                  4340 non-null   object \n",
      " 5   retention_days           3016 non-null   object \n",
      " 6   sex                      4340 non-null   int64  \n",
      " 7   user_dating.age_start    4340 non-null   int64  \n",
      " 8   user_dating.age_end      4340 non-null   int64  \n",
      " 9   view_count               4340 non-null   int64  \n",
      " 10  was_special              436 non-null    float64\n",
      " 11  is_special               192 non-null    float64\n",
      " 12  total_revenue            4340 non-null   int64  \n",
      "dtypes: float64(3), int64(8), object(2)\n",
      "memory usage: 440.9+ KB\n"
     ]
    }
   ],
   "source": [
    "portrait_df_1.info()"
   ]
  },
  {
   "cell_type": "code",
   "execution_count": 310,
   "id": "40ace88c",
   "metadata": {},
   "outputs": [
    {
     "data": {
      "text/plain": [
       "0"
      ]
     },
     "execution_count": 310,
     "metadata": {},
     "output_type": "execute_result"
    }
   ],
   "source": [
    "portrait_df_1.duplicated().sum()"
   ]
  },
  {
   "cell_type": "code",
   "execution_count": 311,
   "id": "5da0b64d",
   "metadata": {},
   "outputs": [
    {
     "data": {
      "text/html": [
       "<div>\n",
       "<style scoped>\n",
       "    .dataframe tbody tr th:only-of-type {\n",
       "        vertical-align: middle;\n",
       "    }\n",
       "\n",
       "    .dataframe tbody tr th {\n",
       "        vertical-align: top;\n",
       "    }\n",
       "\n",
       "    .dataframe thead th {\n",
       "        text-align: right;\n",
       "    }\n",
       "</style>\n",
       "<table border=\"1\" class=\"dataframe\">\n",
       "  <thead>\n",
       "    <tr style=\"text-align: right;\">\n",
       "      <th></th>\n",
       "      <th>user_id</th>\n",
       "      <th>age</th>\n",
       "      <th>attraction_distribution</th>\n",
       "      <th>coins</th>\n",
       "      <th>country</th>\n",
       "      <th>retention_days</th>\n",
       "      <th>sex</th>\n",
       "      <th>user_dating.age_start</th>\n",
       "      <th>user_dating.age_end</th>\n",
       "      <th>view_count</th>\n",
       "      <th>was_special</th>\n",
       "      <th>is_special</th>\n",
       "      <th>total_revenue</th>\n",
       "    </tr>\n",
       "  </thead>\n",
       "  <tbody>\n",
       "    <tr>\n",
       "      <th>0</th>\n",
       "      <td>892035504</td>\n",
       "      <td>37</td>\n",
       "      <td>137</td>\n",
       "      <td>NaN</td>\n",
       "      <td>IL</td>\n",
       "      <td>1,2,3,4,5,6,7,8,9,11,13</td>\n",
       "      <td>1</td>\n",
       "      <td>30</td>\n",
       "      <td>40</td>\n",
       "      <td>51</td>\n",
       "      <td>NaN</td>\n",
       "      <td>NaN</td>\n",
       "      <td>0</td>\n",
       "    </tr>\n",
       "    <tr>\n",
       "      <th>1</th>\n",
       "      <td>891782112</td>\n",
       "      <td>57</td>\n",
       "      <td>0</td>\n",
       "      <td>NaN</td>\n",
       "      <td>IT</td>\n",
       "      <td>1</td>\n",
       "      <td>1</td>\n",
       "      <td>54</td>\n",
       "      <td>60</td>\n",
       "      <td>0</td>\n",
       "      <td>NaN</td>\n",
       "      <td>NaN</td>\n",
       "      <td>0</td>\n",
       "    </tr>\n",
       "    <tr>\n",
       "      <th>2</th>\n",
       "      <td>891110337</td>\n",
       "      <td>30</td>\n",
       "      <td>769</td>\n",
       "      <td>NaN</td>\n",
       "      <td>FR</td>\n",
       "      <td>1,2,3,4,5</td>\n",
       "      <td>1</td>\n",
       "      <td>27</td>\n",
       "      <td>33</td>\n",
       "      <td>13</td>\n",
       "      <td>NaN</td>\n",
       "      <td>NaN</td>\n",
       "      <td>0</td>\n",
       "    </tr>\n",
       "    <tr>\n",
       "      <th>3</th>\n",
       "      <td>891796320</td>\n",
       "      <td>48</td>\n",
       "      <td>750</td>\n",
       "      <td>NaN</td>\n",
       "      <td>FR</td>\n",
       "      <td>1,4,6,8,10,11,12,14,15,16,18</td>\n",
       "      <td>1</td>\n",
       "      <td>45</td>\n",
       "      <td>51</td>\n",
       "      <td>12</td>\n",
       "      <td>NaN</td>\n",
       "      <td>NaN</td>\n",
       "      <td>0</td>\n",
       "    </tr>\n",
       "    <tr>\n",
       "      <th>4</th>\n",
       "      <td>891880212</td>\n",
       "      <td>54</td>\n",
       "      <td>638</td>\n",
       "      <td>NaN</td>\n",
       "      <td>US</td>\n",
       "      <td>1</td>\n",
       "      <td>1</td>\n",
       "      <td>35</td>\n",
       "      <td>53</td>\n",
       "      <td>94</td>\n",
       "      <td>NaN</td>\n",
       "      <td>NaN</td>\n",
       "      <td>0</td>\n",
       "    </tr>\n",
       "  </tbody>\n",
       "</table>\n",
       "</div>"
      ],
      "text/plain": [
       "     user_id  age  attraction_distribution  coins country  \\\n",
       "0  892035504   37                      137    NaN      IL   \n",
       "1  891782112   57                        0    NaN      IT   \n",
       "2  891110337   30                      769    NaN      FR   \n",
       "3  891796320   48                      750    NaN      FR   \n",
       "4  891880212   54                      638    NaN      US   \n",
       "\n",
       "                 retention_days  sex  user_dating.age_start  \\\n",
       "0       1,2,3,4,5,6,7,8,9,11,13    1                     30   \n",
       "1                             1    1                     54   \n",
       "2                     1,2,3,4,5    1                     27   \n",
       "3  1,4,6,8,10,11,12,14,15,16,18    1                     45   \n",
       "4                             1    1                     35   \n",
       "\n",
       "   user_dating.age_end  view_count  was_special  is_special  total_revenue  \n",
       "0                   40          51          NaN         NaN              0  \n",
       "1                   60           0          NaN         NaN              0  \n",
       "2                   33          13          NaN         NaN              0  \n",
       "3                   51          12          NaN         NaN              0  \n",
       "4                   53          94          NaN         NaN              0  "
      ]
     },
     "execution_count": 311,
     "metadata": {},
     "output_type": "execute_result"
    }
   ],
   "source": [
    "portrait_df_2.head()"
   ]
  },
  {
   "cell_type": "code",
   "execution_count": 312,
   "id": "52a5da81",
   "metadata": {
    "scrolled": true
   },
   "outputs": [
    {
     "name": "stdout",
     "output_type": "stream",
     "text": [
      "<class 'pandas.core.frame.DataFrame'>\n",
      "RangeIndex: 4264 entries, 0 to 4263\n",
      "Data columns (total 13 columns):\n",
      " #   Column                   Non-Null Count  Dtype  \n",
      "---  ------                   --------------  -----  \n",
      " 0   user_id                  4264 non-null   int64  \n",
      " 1   age                      4264 non-null   int64  \n",
      " 2   attraction_distribution  4264 non-null   int64  \n",
      " 3   coins                    61 non-null     float64\n",
      " 4   country                  4264 non-null   object \n",
      " 5   retention_days           2900 non-null   object \n",
      " 6   sex                      4264 non-null   int64  \n",
      " 7   user_dating.age_start    4264 non-null   int64  \n",
      " 8   user_dating.age_end      4264 non-null   int64  \n",
      " 9   view_count               4264 non-null   int64  \n",
      " 10  was_special              411 non-null    float64\n",
      " 11  is_special               191 non-null    float64\n",
      " 12  total_revenue            4264 non-null   int64  \n",
      "dtypes: float64(3), int64(8), object(2)\n",
      "memory usage: 433.2+ KB\n"
     ]
    }
   ],
   "source": [
    "portrait_df_2.info()"
   ]
  },
  {
   "cell_type": "code",
   "execution_count": 313,
   "id": "7de0bfc9",
   "metadata": {},
   "outputs": [
    {
     "data": {
      "text/plain": [
       "0"
      ]
     },
     "execution_count": 313,
     "metadata": {},
     "output_type": "execute_result"
    }
   ],
   "source": [
    "portrait_df_2.duplicated().sum()"
   ]
  },
  {
   "cell_type": "code",
   "execution_count": 314,
   "id": "a56432b8",
   "metadata": {},
   "outputs": [
    {
     "data": {
      "text/html": [
       "<div>\n",
       "<style scoped>\n",
       "    .dataframe tbody tr th:only-of-type {\n",
       "        vertical-align: middle;\n",
       "    }\n",
       "\n",
       "    .dataframe tbody tr th {\n",
       "        vertical-align: top;\n",
       "    }\n",
       "\n",
       "    .dataframe thead th {\n",
       "        text-align: right;\n",
       "    }\n",
       "</style>\n",
       "<table border=\"1\" class=\"dataframe\">\n",
       "  <thead>\n",
       "    <tr style=\"text-align: right;\">\n",
       "      <th></th>\n",
       "      <th>user_id</th>\n",
       "      <th>age</th>\n",
       "      <th>attraction_distribution</th>\n",
       "      <th>coins</th>\n",
       "      <th>country</th>\n",
       "      <th>retention_days</th>\n",
       "      <th>sex</th>\n",
       "      <th>user_dating.age_start</th>\n",
       "      <th>user_dating.age_end</th>\n",
       "      <th>view_count</th>\n",
       "      <th>was_special</th>\n",
       "      <th>is_special</th>\n",
       "      <th>total_revenue</th>\n",
       "    </tr>\n",
       "  </thead>\n",
       "  <tbody>\n",
       "    <tr>\n",
       "      <th>0</th>\n",
       "      <td>892309896</td>\n",
       "      <td>27</td>\n",
       "      <td>685</td>\n",
       "      <td>NaN</td>\n",
       "      <td>US</td>\n",
       "      <td>1,2,3,4,5,6,7,8,9,10,11,12,16,17</td>\n",
       "      <td>1</td>\n",
       "      <td>24</td>\n",
       "      <td>30</td>\n",
       "      <td>89</td>\n",
       "      <td>NaN</td>\n",
       "      <td>NaN</td>\n",
       "      <td>0</td>\n",
       "    </tr>\n",
       "    <tr>\n",
       "      <th>1</th>\n",
       "      <td>892044516</td>\n",
       "      <td>27</td>\n",
       "      <td>0</td>\n",
       "      <td>NaN</td>\n",
       "      <td>DE</td>\n",
       "      <td>NaN</td>\n",
       "      <td>1</td>\n",
       "      <td>24</td>\n",
       "      <td>30</td>\n",
       "      <td>0</td>\n",
       "      <td>NaN</td>\n",
       "      <td>NaN</td>\n",
       "      <td>0</td>\n",
       "    </tr>\n",
       "    <tr>\n",
       "      <th>2</th>\n",
       "      <td>892185708</td>\n",
       "      <td>45</td>\n",
       "      <td>44</td>\n",
       "      <td>NaN</td>\n",
       "      <td>IL</td>\n",
       "      <td>1,3,4,6,7,8,10,11,12,13,14,15,16,17,18,19,20,2...</td>\n",
       "      <td>1</td>\n",
       "      <td>42</td>\n",
       "      <td>48</td>\n",
       "      <td>68</td>\n",
       "      <td>NaN</td>\n",
       "      <td>NaN</td>\n",
       "      <td>0</td>\n",
       "    </tr>\n",
       "    <tr>\n",
       "      <th>3</th>\n",
       "      <td>892130292</td>\n",
       "      <td>32</td>\n",
       "      <td>0</td>\n",
       "      <td>NaN</td>\n",
       "      <td>US</td>\n",
       "      <td>1,2,3,4,5,6,7,8,9,10,11,12</td>\n",
       "      <td>1</td>\n",
       "      <td>29</td>\n",
       "      <td>35</td>\n",
       "      <td>0</td>\n",
       "      <td>NaN</td>\n",
       "      <td>NaN</td>\n",
       "      <td>0</td>\n",
       "    </tr>\n",
       "    <tr>\n",
       "      <th>4</th>\n",
       "      <td>891406035</td>\n",
       "      <td>27</td>\n",
       "      <td>1000</td>\n",
       "      <td>NaN</td>\n",
       "      <td>FR</td>\n",
       "      <td>NaN</td>\n",
       "      <td>1</td>\n",
       "      <td>24</td>\n",
       "      <td>30</td>\n",
       "      <td>1</td>\n",
       "      <td>1.0</td>\n",
       "      <td>NaN</td>\n",
       "      <td>0</td>\n",
       "    </tr>\n",
       "  </tbody>\n",
       "</table>\n",
       "</div>"
      ],
      "text/plain": [
       "     user_id  age  attraction_distribution  coins country  \\\n",
       "0  892309896   27                      685    NaN      US   \n",
       "1  892044516   27                        0    NaN      DE   \n",
       "2  892185708   45                       44    NaN      IL   \n",
       "3  892130292   32                        0    NaN      US   \n",
       "4  891406035   27                     1000    NaN      FR   \n",
       "\n",
       "                                      retention_days  sex  \\\n",
       "0                   1,2,3,4,5,6,7,8,9,10,11,12,16,17    1   \n",
       "1                                                NaN    1   \n",
       "2  1,3,4,6,7,8,10,11,12,13,14,15,16,17,18,19,20,2...    1   \n",
       "3                         1,2,3,4,5,6,7,8,9,10,11,12    1   \n",
       "4                                                NaN    1   \n",
       "\n",
       "   user_dating.age_start  user_dating.age_end  view_count  was_special  \\\n",
       "0                     24                   30          89          NaN   \n",
       "1                     24                   30           0          NaN   \n",
       "2                     42                   48          68          NaN   \n",
       "3                     29                   35           0          NaN   \n",
       "4                     24                   30           1          1.0   \n",
       "\n",
       "   is_special  total_revenue  \n",
       "0         NaN              0  \n",
       "1         NaN              0  \n",
       "2         NaN              0  \n",
       "3         NaN              0  \n",
       "4         NaN              0  "
      ]
     },
     "execution_count": 314,
     "metadata": {},
     "output_type": "execute_result"
    }
   ],
   "source": [
    "portrait_df_test.head()"
   ]
  },
  {
   "cell_type": "code",
   "execution_count": 315,
   "id": "0ca2a422",
   "metadata": {},
   "outputs": [
    {
     "name": "stdout",
     "output_type": "stream",
     "text": [
      "<class 'pandas.core.frame.DataFrame'>\n",
      "RangeIndex: 4308 entries, 0 to 4307\n",
      "Data columns (total 13 columns):\n",
      " #   Column                   Non-Null Count  Dtype  \n",
      "---  ------                   --------------  -----  \n",
      " 0   user_id                  4308 non-null   int64  \n",
      " 1   age                      4308 non-null   int64  \n",
      " 2   attraction_distribution  4308 non-null   int64  \n",
      " 3   coins                    49 non-null     float64\n",
      " 4   country                  4308 non-null   object \n",
      " 5   retention_days           2978 non-null   object \n",
      " 6   sex                      4308 non-null   int64  \n",
      " 7   user_dating.age_start    4308 non-null   int64  \n",
      " 8   user_dating.age_end      4308 non-null   int64  \n",
      " 9   view_count               4308 non-null   int64  \n",
      " 10  was_special              408 non-null    float64\n",
      " 11  is_special               157 non-null    float64\n",
      " 12  total_revenue            4308 non-null   int64  \n",
      "dtypes: float64(3), int64(8), object(2)\n",
      "memory usage: 437.7+ KB\n"
     ]
    }
   ],
   "source": [
    "portrait_df_test.info()"
   ]
  },
  {
   "cell_type": "code",
   "execution_count": 316,
   "id": "7debd956",
   "metadata": {},
   "outputs": [
    {
     "data": {
      "text/plain": [
       "0"
      ]
     },
     "execution_count": 316,
     "metadata": {},
     "output_type": "execute_result"
    }
   ],
   "source": [
    "portrait_df_test.duplicated().sum()"
   ]
  },
  {
   "cell_type": "markdown",
   "id": "8c060d5f",
   "metadata": {},
   "source": [
    "Просмотрев информацию о таблицах, увидели, что что нет дублированных значений.\n",
    "\n",
    "В таблицах с портретами пользователей пропуски обозначают false, 0 или отсутствие заходов в приложение на\n",
    "следующие дни для поля retention_days, как следует из предоставленных данных. Соответственно, заменим NaN во всех столбцах, где есть пропуски, нулями.\n",
    "\n",
    "Изменим тип столбцов `coins`, `was_special`, `is_special` на `int64`."
   ]
  },
  {
   "cell_type": "code",
   "execution_count": 317,
   "id": "38555076",
   "metadata": {},
   "outputs": [
    {
     "data": {
      "text/plain": [
       "user_id                    0\n",
       "age                        0\n",
       "attraction_distribution    0\n",
       "coins                      0\n",
       "country                    0\n",
       "retention_days             0\n",
       "sex                        0\n",
       "user_dating.age_start      0\n",
       "user_dating.age_end        0\n",
       "view_count                 0\n",
       "was_special                0\n",
       "is_special                 0\n",
       "total_revenue              0\n",
       "dtype: int64"
      ]
     },
     "execution_count": 317,
     "metadata": {},
     "output_type": "execute_result"
    }
   ],
   "source": [
    "portrait_df_1 = portrait_df_1.fillna(0)\n",
    "portrait_df_1.isna().sum()"
   ]
  },
  {
   "cell_type": "code",
   "execution_count": 318,
   "id": "587c7562",
   "metadata": {},
   "outputs": [
    {
     "data": {
      "text/plain": [
       "user_id                    0\n",
       "age                        0\n",
       "attraction_distribution    0\n",
       "coins                      0\n",
       "country                    0\n",
       "retention_days             0\n",
       "sex                        0\n",
       "user_dating.age_start      0\n",
       "user_dating.age_end        0\n",
       "view_count                 0\n",
       "was_special                0\n",
       "is_special                 0\n",
       "total_revenue              0\n",
       "dtype: int64"
      ]
     },
     "execution_count": 318,
     "metadata": {},
     "output_type": "execute_result"
    }
   ],
   "source": [
    "portrait_df_2 = portrait_df_2.fillna(0)\n",
    "portrait_df_2.isna().sum()"
   ]
  },
  {
   "cell_type": "code",
   "execution_count": 319,
   "id": "2ae0de48",
   "metadata": {},
   "outputs": [
    {
     "data": {
      "text/plain": [
       "user_id                    0\n",
       "age                        0\n",
       "attraction_distribution    0\n",
       "coins                      0\n",
       "country                    0\n",
       "retention_days             0\n",
       "sex                        0\n",
       "user_dating.age_start      0\n",
       "user_dating.age_end        0\n",
       "view_count                 0\n",
       "was_special                0\n",
       "is_special                 0\n",
       "total_revenue              0\n",
       "dtype: int64"
      ]
     },
     "execution_count": 319,
     "metadata": {},
     "output_type": "execute_result"
    }
   ],
   "source": [
    "portrait_df_test = portrait_df_test.fillna(0)\n",
    "portrait_df_test.isna().sum()"
   ]
  },
  {
   "cell_type": "markdown",
   "id": "2e574b20",
   "metadata": {},
   "source": [
    "Пропуски заменены, теперь превратим `float` в `int`"
   ]
  },
  {
   "cell_type": "code",
   "execution_count": 320,
   "id": "0ef933b9",
   "metadata": {},
   "outputs": [],
   "source": [
    "def type_change(df):\n",
    "    df['coins'] = df['coins'].astype('int64')\n",
    "    df['was_special'] = df['was_special'].astype('int64')\n",
    "    df['is_special'] = df['is_special'].astype('int64')\n",
    "    return df.info()"
   ]
  },
  {
   "cell_type": "code",
   "execution_count": 321,
   "id": "32aa7bec",
   "metadata": {},
   "outputs": [
    {
     "name": "stdout",
     "output_type": "stream",
     "text": [
      "<class 'pandas.core.frame.DataFrame'>\n",
      "RangeIndex: 4340 entries, 0 to 4339\n",
      "Data columns (total 13 columns):\n",
      " #   Column                   Non-Null Count  Dtype \n",
      "---  ------                   --------------  ----- \n",
      " 0   user_id                  4340 non-null   int64 \n",
      " 1   age                      4340 non-null   int64 \n",
      " 2   attraction_distribution  4340 non-null   int64 \n",
      " 3   coins                    4340 non-null   int64 \n",
      " 4   country                  4340 non-null   object\n",
      " 5   retention_days           4340 non-null   object\n",
      " 6   sex                      4340 non-null   int64 \n",
      " 7   user_dating.age_start    4340 non-null   int64 \n",
      " 8   user_dating.age_end      4340 non-null   int64 \n",
      " 9   view_count               4340 non-null   int64 \n",
      " 10  was_special              4340 non-null   int64 \n",
      " 11  is_special               4340 non-null   int64 \n",
      " 12  total_revenue            4340 non-null   int64 \n",
      "dtypes: int64(11), object(2)\n",
      "memory usage: 440.9+ KB\n"
     ]
    }
   ],
   "source": [
    "type_change(portrait_df_1)"
   ]
  },
  {
   "cell_type": "code",
   "execution_count": 322,
   "id": "38bb0ec7",
   "metadata": {},
   "outputs": [
    {
     "name": "stdout",
     "output_type": "stream",
     "text": [
      "<class 'pandas.core.frame.DataFrame'>\n",
      "RangeIndex: 4264 entries, 0 to 4263\n",
      "Data columns (total 13 columns):\n",
      " #   Column                   Non-Null Count  Dtype \n",
      "---  ------                   --------------  ----- \n",
      " 0   user_id                  4264 non-null   int64 \n",
      " 1   age                      4264 non-null   int64 \n",
      " 2   attraction_distribution  4264 non-null   int64 \n",
      " 3   coins                    4264 non-null   int64 \n",
      " 4   country                  4264 non-null   object\n",
      " 5   retention_days           4264 non-null   object\n",
      " 6   sex                      4264 non-null   int64 \n",
      " 7   user_dating.age_start    4264 non-null   int64 \n",
      " 8   user_dating.age_end      4264 non-null   int64 \n",
      " 9   view_count               4264 non-null   int64 \n",
      " 10  was_special              4264 non-null   int64 \n",
      " 11  is_special               4264 non-null   int64 \n",
      " 12  total_revenue            4264 non-null   int64 \n",
      "dtypes: int64(11), object(2)\n",
      "memory usage: 433.2+ KB\n"
     ]
    }
   ],
   "source": [
    "type_change(portrait_df_2)"
   ]
  },
  {
   "cell_type": "code",
   "execution_count": 323,
   "id": "13ca920b",
   "metadata": {},
   "outputs": [
    {
     "name": "stdout",
     "output_type": "stream",
     "text": [
      "<class 'pandas.core.frame.DataFrame'>\n",
      "RangeIndex: 4308 entries, 0 to 4307\n",
      "Data columns (total 13 columns):\n",
      " #   Column                   Non-Null Count  Dtype \n",
      "---  ------                   --------------  ----- \n",
      " 0   user_id                  4308 non-null   int64 \n",
      " 1   age                      4308 non-null   int64 \n",
      " 2   attraction_distribution  4308 non-null   int64 \n",
      " 3   coins                    4308 non-null   int64 \n",
      " 4   country                  4308 non-null   object\n",
      " 5   retention_days           4308 non-null   object\n",
      " 6   sex                      4308 non-null   int64 \n",
      " 7   user_dating.age_start    4308 non-null   int64 \n",
      " 8   user_dating.age_end      4308 non-null   int64 \n",
      " 9   view_count               4308 non-null   int64 \n",
      " 10  was_special              4308 non-null   int64 \n",
      " 11  is_special               4308 non-null   int64 \n",
      " 12  total_revenue            4308 non-null   int64 \n",
      "dtypes: int64(11), object(2)\n",
      "memory usage: 437.7+ KB\n"
     ]
    }
   ],
   "source": [
    "type_change(portrait_df_test)"
   ]
  },
  {
   "cell_type": "markdown",
   "id": "b7fe2c67",
   "metadata": {},
   "source": [
    "Пропуски заменены, типы данных заменены, можно приступать к анализу."
   ]
  },
  {
   "cell_type": "code",
   "execution_count": 324,
   "id": "044e9014",
   "metadata": {},
   "outputs": [
    {
     "data": {
      "text/html": [
       "<div>\n",
       "<style scoped>\n",
       "    .dataframe tbody tr th:only-of-type {\n",
       "        vertical-align: middle;\n",
       "    }\n",
       "\n",
       "    .dataframe tbody tr th {\n",
       "        vertical-align: top;\n",
       "    }\n",
       "\n",
       "    .dataframe thead th {\n",
       "        text-align: right;\n",
       "    }\n",
       "</style>\n",
       "<table border=\"1\" class=\"dataframe\">\n",
       "  <thead>\n",
       "    <tr style=\"text-align: right;\">\n",
       "      <th></th>\n",
       "      <th>user_id</th>\n",
       "      <th>age</th>\n",
       "      <th>attraction_distribution</th>\n",
       "      <th>coins</th>\n",
       "      <th>country</th>\n",
       "      <th>retention_days</th>\n",
       "      <th>sex</th>\n",
       "      <th>user_dating.age_start</th>\n",
       "      <th>user_dating.age_end</th>\n",
       "      <th>view_count</th>\n",
       "      <th>was_special</th>\n",
       "      <th>is_special</th>\n",
       "      <th>total_revenue</th>\n",
       "    </tr>\n",
       "  </thead>\n",
       "  <tbody>\n",
       "    <tr>\n",
       "      <th>0</th>\n",
       "      <td>892319115</td>\n",
       "      <td>25</td>\n",
       "      <td>435</td>\n",
       "      <td>0</td>\n",
       "      <td>US</td>\n",
       "      <td>1,2,3,4,5,6</td>\n",
       "      <td>0</td>\n",
       "      <td>22</td>\n",
       "      <td>32</td>\n",
       "      <td>982</td>\n",
       "      <td>0</td>\n",
       "      <td>0</td>\n",
       "      <td>0</td>\n",
       "    </tr>\n",
       "    <tr>\n",
       "      <th>1</th>\n",
       "      <td>891248523</td>\n",
       "      <td>29</td>\n",
       "      <td>500</td>\n",
       "      <td>0</td>\n",
       "      <td>US</td>\n",
       "      <td>1,2</td>\n",
       "      <td>1</td>\n",
       "      <td>26</td>\n",
       "      <td>32</td>\n",
       "      <td>12</td>\n",
       "      <td>0</td>\n",
       "      <td>0</td>\n",
       "      <td>0</td>\n",
       "    </tr>\n",
       "    <tr>\n",
       "      <th>2</th>\n",
       "      <td>891670932</td>\n",
       "      <td>33</td>\n",
       "      <td>800</td>\n",
       "      <td>0</td>\n",
       "      <td>FR</td>\n",
       "      <td>1,2,3,5,6,8,9,11,13,16</td>\n",
       "      <td>1</td>\n",
       "      <td>30</td>\n",
       "      <td>36</td>\n",
       "      <td>5</td>\n",
       "      <td>0</td>\n",
       "      <td>0</td>\n",
       "      <td>0</td>\n",
       "    </tr>\n",
       "    <tr>\n",
       "      <th>3</th>\n",
       "      <td>891060786</td>\n",
       "      <td>26</td>\n",
       "      <td>0</td>\n",
       "      <td>0</td>\n",
       "      <td>AR</td>\n",
       "      <td>1,2,3,4,5</td>\n",
       "      <td>1</td>\n",
       "      <td>23</td>\n",
       "      <td>29</td>\n",
       "      <td>0</td>\n",
       "      <td>0</td>\n",
       "      <td>0</td>\n",
       "      <td>0</td>\n",
       "    </tr>\n",
       "    <tr>\n",
       "      <th>4</th>\n",
       "      <td>892006554</td>\n",
       "      <td>35</td>\n",
       "      <td>294</td>\n",
       "      <td>0</td>\n",
       "      <td>US</td>\n",
       "      <td>1,2,3,5,6,7,8,9,10,12,15,16,17,19</td>\n",
       "      <td>1</td>\n",
       "      <td>30</td>\n",
       "      <td>40</td>\n",
       "      <td>17</td>\n",
       "      <td>0</td>\n",
       "      <td>0</td>\n",
       "      <td>0</td>\n",
       "    </tr>\n",
       "    <tr>\n",
       "      <th>5</th>\n",
       "      <td>891497961</td>\n",
       "      <td>28</td>\n",
       "      <td>400</td>\n",
       "      <td>28</td>\n",
       "      <td>CL</td>\n",
       "      <td>1,2</td>\n",
       "      <td>1</td>\n",
       "      <td>25</td>\n",
       "      <td>31</td>\n",
       "      <td>25</td>\n",
       "      <td>0</td>\n",
       "      <td>0</td>\n",
       "      <td>6396</td>\n",
       "    </tr>\n",
       "    <tr>\n",
       "      <th>6</th>\n",
       "      <td>892154826</td>\n",
       "      <td>20</td>\n",
       "      <td>100</td>\n",
       "      <td>0</td>\n",
       "      <td>US</td>\n",
       "      <td>1,2,3,4,5,7,8,9,11,12,13,14,15,17,18,19,20,21,...</td>\n",
       "      <td>1</td>\n",
       "      <td>17</td>\n",
       "      <td>23</td>\n",
       "      <td>10</td>\n",
       "      <td>0</td>\n",
       "      <td>0</td>\n",
       "      <td>0</td>\n",
       "    </tr>\n",
       "    <tr>\n",
       "      <th>7</th>\n",
       "      <td>891710454</td>\n",
       "      <td>25</td>\n",
       "      <td>545</td>\n",
       "      <td>0</td>\n",
       "      <td>IT</td>\n",
       "      <td>2,4,6,8,9,11,12,14,15,16,17</td>\n",
       "      <td>1</td>\n",
       "      <td>18</td>\n",
       "      <td>39</td>\n",
       "      <td>11</td>\n",
       "      <td>0</td>\n",
       "      <td>0</td>\n",
       "      <td>0</td>\n",
       "    </tr>\n",
       "    <tr>\n",
       "      <th>8</th>\n",
       "      <td>891229611</td>\n",
       "      <td>38</td>\n",
       "      <td>0</td>\n",
       "      <td>0</td>\n",
       "      <td>CL</td>\n",
       "      <td>1,2,3</td>\n",
       "      <td>1</td>\n",
       "      <td>35</td>\n",
       "      <td>41</td>\n",
       "      <td>2</td>\n",
       "      <td>0</td>\n",
       "      <td>0</td>\n",
       "      <td>0</td>\n",
       "    </tr>\n",
       "    <tr>\n",
       "      <th>9</th>\n",
       "      <td>892046007</td>\n",
       "      <td>49</td>\n",
       "      <td>0</td>\n",
       "      <td>0</td>\n",
       "      <td>US</td>\n",
       "      <td>0</td>\n",
       "      <td>1</td>\n",
       "      <td>46</td>\n",
       "      <td>52</td>\n",
       "      <td>0</td>\n",
       "      <td>0</td>\n",
       "      <td>0</td>\n",
       "      <td>0</td>\n",
       "    </tr>\n",
       "  </tbody>\n",
       "</table>\n",
       "</div>"
      ],
      "text/plain": [
       "     user_id  age  attraction_distribution  coins country  \\\n",
       "0  892319115   25                      435      0      US   \n",
       "1  891248523   29                      500      0      US   \n",
       "2  891670932   33                      800      0      FR   \n",
       "3  891060786   26                        0      0      AR   \n",
       "4  892006554   35                      294      0      US   \n",
       "5  891497961   28                      400     28      CL   \n",
       "6  892154826   20                      100      0      US   \n",
       "7  891710454   25                      545      0      IT   \n",
       "8  891229611   38                        0      0      CL   \n",
       "9  892046007   49                        0      0      US   \n",
       "\n",
       "                                      retention_days  sex  \\\n",
       "0                                        1,2,3,4,5,6    0   \n",
       "1                                                1,2    1   \n",
       "2                             1,2,3,5,6,8,9,11,13,16    1   \n",
       "3                                          1,2,3,4,5    1   \n",
       "4                  1,2,3,5,6,7,8,9,10,12,15,16,17,19    1   \n",
       "5                                                1,2    1   \n",
       "6  1,2,3,4,5,7,8,9,11,12,13,14,15,17,18,19,20,21,...    1   \n",
       "7                        2,4,6,8,9,11,12,14,15,16,17    1   \n",
       "8                                              1,2,3    1   \n",
       "9                                                  0    1   \n",
       "\n",
       "   user_dating.age_start  user_dating.age_end  view_count  was_special  \\\n",
       "0                     22                   32         982            0   \n",
       "1                     26                   32          12            0   \n",
       "2                     30                   36           5            0   \n",
       "3                     23                   29           0            0   \n",
       "4                     30                   40          17            0   \n",
       "5                     25                   31          25            0   \n",
       "6                     17                   23          10            0   \n",
       "7                     18                   39          11            0   \n",
       "8                     35                   41           2            0   \n",
       "9                     46                   52           0            0   \n",
       "\n",
       "   is_special  total_revenue  \n",
       "0           0              0  \n",
       "1           0              0  \n",
       "2           0              0  \n",
       "3           0              0  \n",
       "4           0              0  \n",
       "5           0           6396  \n",
       "6           0              0  \n",
       "7           0              0  \n",
       "8           0              0  \n",
       "9           0              0  "
      ]
     },
     "execution_count": 324,
     "metadata": {},
     "output_type": "execute_result"
    }
   ],
   "source": [
    "portrait_df_1.head(10)"
   ]
  },
  {
   "cell_type": "markdown",
   "id": "22b0d045",
   "metadata": {},
   "source": [
    "Задача состоит в том, чтобы понять, для каких групп людей эксперимент по введению двойной стоимости подписки оказался удачным.\n",
    "\n",
    "Проверим несколько групп людей по некоторым основным признакам, а именно по полу и возрасту. При необходимости рассмотрим некоторые дополнительные признаки.\n",
    "\n",
    "Для начала соединим таблицы по столбцу `user_id`, чтобы иметь полную картину портрета пользователя с его платежами."
   ]
  },
  {
   "cell_type": "code",
   "execution_count": 325,
   "id": "60bbad66",
   "metadata": {},
   "outputs": [
    {
     "data": {
      "text/html": [
       "<div>\n",
       "<style scoped>\n",
       "    .dataframe tbody tr th:only-of-type {\n",
       "        vertical-align: middle;\n",
       "    }\n",
       "\n",
       "    .dataframe tbody tr th {\n",
       "        vertical-align: top;\n",
       "    }\n",
       "\n",
       "    .dataframe thead th {\n",
       "        text-align: right;\n",
       "    }\n",
       "</style>\n",
       "<table border=\"1\" class=\"dataframe\">\n",
       "  <thead>\n",
       "    <tr style=\"text-align: right;\">\n",
       "      <th></th>\n",
       "      <th>user_id</th>\n",
       "      <th>age</th>\n",
       "      <th>attraction_distribution</th>\n",
       "      <th>coins</th>\n",
       "      <th>country</th>\n",
       "      <th>retention_days</th>\n",
       "      <th>sex</th>\n",
       "      <th>user_dating.age_start</th>\n",
       "      <th>user_dating.age_end</th>\n",
       "      <th>view_count</th>\n",
       "      <th>was_special</th>\n",
       "      <th>is_special</th>\n",
       "      <th>total_revenue</th>\n",
       "      <th>registration_date</th>\n",
       "      <th>payment_date</th>\n",
       "      <th>revenue</th>\n",
       "      <th>payment_service_id</th>\n",
       "      <th>place</th>\n",
       "      <th>product_type</th>\n",
       "    </tr>\n",
       "  </thead>\n",
       "  <tbody>\n",
       "    <tr>\n",
       "      <th>4498</th>\n",
       "      <td>892022304</td>\n",
       "      <td>26</td>\n",
       "      <td>227</td>\n",
       "      <td>0</td>\n",
       "      <td>US</td>\n",
       "      <td>0</td>\n",
       "      <td>0</td>\n",
       "      <td>23</td>\n",
       "      <td>29</td>\n",
       "      <td>427</td>\n",
       "      <td>0</td>\n",
       "      <td>0</td>\n",
       "      <td>0</td>\n",
       "      <td>NaN</td>\n",
       "      <td>NaN</td>\n",
       "      <td>NaN</td>\n",
       "      <td>NaN</td>\n",
       "      <td>NaN</td>\n",
       "      <td>NaN</td>\n",
       "    </tr>\n",
       "    <tr>\n",
       "      <th>4499</th>\n",
       "      <td>891905022</td>\n",
       "      <td>38</td>\n",
       "      <td>200</td>\n",
       "      <td>0</td>\n",
       "      <td>AR</td>\n",
       "      <td>1,2,3,4,5,6,7,8,9,10,11,13,14,15,16,21</td>\n",
       "      <td>1</td>\n",
       "      <td>20</td>\n",
       "      <td>50</td>\n",
       "      <td>5</td>\n",
       "      <td>0</td>\n",
       "      <td>0</td>\n",
       "      <td>0</td>\n",
       "      <td>NaN</td>\n",
       "      <td>NaN</td>\n",
       "      <td>NaN</td>\n",
       "      <td>NaN</td>\n",
       "      <td>NaN</td>\n",
       "      <td>NaN</td>\n",
       "    </tr>\n",
       "    <tr>\n",
       "      <th>4500</th>\n",
       "      <td>891304722</td>\n",
       "      <td>49</td>\n",
       "      <td>411</td>\n",
       "      <td>0</td>\n",
       "      <td>US</td>\n",
       "      <td>1</td>\n",
       "      <td>1</td>\n",
       "      <td>46</td>\n",
       "      <td>52</td>\n",
       "      <td>17</td>\n",
       "      <td>0</td>\n",
       "      <td>0</td>\n",
       "      <td>0</td>\n",
       "      <td>NaN</td>\n",
       "      <td>NaN</td>\n",
       "      <td>NaN</td>\n",
       "      <td>NaN</td>\n",
       "      <td>NaN</td>\n",
       "      <td>NaN</td>\n",
       "    </tr>\n",
       "    <tr>\n",
       "      <th>4501</th>\n",
       "      <td>891302328</td>\n",
       "      <td>27</td>\n",
       "      <td>0</td>\n",
       "      <td>0</td>\n",
       "      <td>US</td>\n",
       "      <td>1,3,5</td>\n",
       "      <td>1</td>\n",
       "      <td>24</td>\n",
       "      <td>30</td>\n",
       "      <td>0</td>\n",
       "      <td>0</td>\n",
       "      <td>0</td>\n",
       "      <td>0</td>\n",
       "      <td>NaN</td>\n",
       "      <td>NaN</td>\n",
       "      <td>NaN</td>\n",
       "      <td>NaN</td>\n",
       "      <td>NaN</td>\n",
       "      <td>NaN</td>\n",
       "    </tr>\n",
       "    <tr>\n",
       "      <th>4502</th>\n",
       "      <td>891182532</td>\n",
       "      <td>31</td>\n",
       "      <td>1000</td>\n",
       "      <td>0</td>\n",
       "      <td>US</td>\n",
       "      <td>1</td>\n",
       "      <td>1</td>\n",
       "      <td>19</td>\n",
       "      <td>34</td>\n",
       "      <td>2</td>\n",
       "      <td>0</td>\n",
       "      <td>0</td>\n",
       "      <td>0</td>\n",
       "      <td>NaN</td>\n",
       "      <td>NaN</td>\n",
       "      <td>NaN</td>\n",
       "      <td>NaN</td>\n",
       "      <td>NaN</td>\n",
       "      <td>NaN</td>\n",
       "    </tr>\n",
       "  </tbody>\n",
       "</table>\n",
       "</div>"
      ],
      "text/plain": [
       "        user_id  age  attraction_distribution  coins country  \\\n",
       "4498  892022304   26                      227      0      US   \n",
       "4499  891905022   38                      200      0      AR   \n",
       "4500  891304722   49                      411      0      US   \n",
       "4501  891302328   27                        0      0      US   \n",
       "4502  891182532   31                     1000      0      US   \n",
       "\n",
       "                              retention_days  sex  user_dating.age_start  \\\n",
       "4498                                       0    0                     23   \n",
       "4499  1,2,3,4,5,6,7,8,9,10,11,13,14,15,16,21    1                     20   \n",
       "4500                                       1    1                     46   \n",
       "4501                                   1,3,5    1                     24   \n",
       "4502                                       1    1                     19   \n",
       "\n",
       "      user_dating.age_end  view_count  was_special  is_special  total_revenue  \\\n",
       "4498                   29         427            0           0              0   \n",
       "4499                   50           5            0           0              0   \n",
       "4500                   52          17            0           0              0   \n",
       "4501                   30           0            0           0              0   \n",
       "4502                   34           2            0           0              0   \n",
       "\n",
       "     registration_date payment_date  revenue  payment_service_id place  \\\n",
       "4498               NaN          NaN      NaN                 NaN   NaN   \n",
       "4499               NaN          NaN      NaN                 NaN   NaN   \n",
       "4500               NaN          NaN      NaN                 NaN   NaN   \n",
       "4501               NaN          NaN      NaN                 NaN   NaN   \n",
       "4502               NaN          NaN      NaN                 NaN   NaN   \n",
       "\n",
       "     product_type  \n",
       "4498          NaN  \n",
       "4499          NaN  \n",
       "4500          NaN  \n",
       "4501          NaN  \n",
       "4502          NaN  "
      ]
     },
     "execution_count": 325,
     "metadata": {},
     "output_type": "execute_result"
    }
   ],
   "source": [
    "full_df_1 = portrait_df_1.merge(pay_df_1, how='outer')\n",
    "full_df_1.tail()"
   ]
  },
  {
   "cell_type": "markdown",
   "id": "7e716b5f",
   "metadata": {},
   "source": [
    "В столбцах, которые присоединились к таблице с портретами, наблюдаются пропуски. Это произошло потому, что у нас нет данных о покупках этих пользователей, то есть покупок они не совершали. Оставим эти пропуски."
   ]
  },
  {
   "cell_type": "code",
   "execution_count": 326,
   "id": "1087e41e",
   "metadata": {},
   "outputs": [
    {
     "name": "stdout",
     "output_type": "stream",
     "text": [
      "<class 'pandas.core.frame.DataFrame'>\n",
      "Int64Index: 4503 entries, 0 to 4502\n",
      "Data columns (total 19 columns):\n",
      " #   Column                   Non-Null Count  Dtype  \n",
      "---  ------                   --------------  -----  \n",
      " 0   user_id                  4503 non-null   int64  \n",
      " 1   age                      4503 non-null   int64  \n",
      " 2   attraction_distribution  4503 non-null   int64  \n",
      " 3   coins                    4503 non-null   int64  \n",
      " 4   country                  4503 non-null   object \n",
      " 5   retention_days           4503 non-null   object \n",
      " 6   sex                      4503 non-null   int64  \n",
      " 7   user_dating.age_start    4503 non-null   int64  \n",
      " 8   user_dating.age_end      4503 non-null   int64  \n",
      " 9   view_count               4503 non-null   int64  \n",
      " 10  was_special              4503 non-null   int64  \n",
      " 11  is_special               4503 non-null   int64  \n",
      " 12  total_revenue            4503 non-null   int64  \n",
      " 13  registration_date        356 non-null    object \n",
      " 14  payment_date             356 non-null    object \n",
      " 15  revenue                  356 non-null    float64\n",
      " 16  payment_service_id       356 non-null    float64\n",
      " 17  place                    356 non-null    object \n",
      " 18  product_type             356 non-null    object \n",
      "dtypes: float64(2), int64(11), object(6)\n",
      "memory usage: 703.6+ KB\n"
     ]
    }
   ],
   "source": [
    "full_df_1.info()"
   ]
  },
  {
   "cell_type": "code",
   "execution_count": 327,
   "id": "a108f8e1",
   "metadata": {},
   "outputs": [
    {
     "data": {
      "text/html": [
       "<div>\n",
       "<style scoped>\n",
       "    .dataframe tbody tr th:only-of-type {\n",
       "        vertical-align: middle;\n",
       "    }\n",
       "\n",
       "    .dataframe tbody tr th {\n",
       "        vertical-align: top;\n",
       "    }\n",
       "\n",
       "    .dataframe thead th {\n",
       "        text-align: right;\n",
       "    }\n",
       "</style>\n",
       "<table border=\"1\" class=\"dataframe\">\n",
       "  <thead>\n",
       "    <tr style=\"text-align: right;\">\n",
       "      <th></th>\n",
       "      <th>user_id</th>\n",
       "      <th>age</th>\n",
       "      <th>attraction_distribution</th>\n",
       "      <th>coins</th>\n",
       "      <th>country</th>\n",
       "      <th>retention_days</th>\n",
       "      <th>sex</th>\n",
       "      <th>user_dating.age_start</th>\n",
       "      <th>user_dating.age_end</th>\n",
       "      <th>view_count</th>\n",
       "      <th>was_special</th>\n",
       "      <th>is_special</th>\n",
       "      <th>total_revenue</th>\n",
       "      <th>registration_date</th>\n",
       "      <th>payment_date</th>\n",
       "      <th>revenue</th>\n",
       "      <th>payment_service_id</th>\n",
       "      <th>place</th>\n",
       "      <th>product_type</th>\n",
       "    </tr>\n",
       "  </thead>\n",
       "  <tbody>\n",
       "    <tr>\n",
       "      <th>4395</th>\n",
       "      <td>891937401</td>\n",
       "      <td>63</td>\n",
       "      <td>242</td>\n",
       "      <td>0</td>\n",
       "      <td>IT</td>\n",
       "      <td>1,2</td>\n",
       "      <td>1</td>\n",
       "      <td>50</td>\n",
       "      <td>66</td>\n",
       "      <td>33</td>\n",
       "      <td>0</td>\n",
       "      <td>0</td>\n",
       "      <td>0</td>\n",
       "      <td>NaN</td>\n",
       "      <td>NaN</td>\n",
       "      <td>NaN</td>\n",
       "      <td>NaN</td>\n",
       "      <td>NaN</td>\n",
       "      <td>NaN</td>\n",
       "    </tr>\n",
       "    <tr>\n",
       "      <th>4396</th>\n",
       "      <td>891692844</td>\n",
       "      <td>35</td>\n",
       "      <td>500</td>\n",
       "      <td>0</td>\n",
       "      <td>FR</td>\n",
       "      <td>1,2,3,4,5,6,8,9,10,11,12,14,16</td>\n",
       "      <td>1</td>\n",
       "      <td>24</td>\n",
       "      <td>45</td>\n",
       "      <td>2</td>\n",
       "      <td>0</td>\n",
       "      <td>0</td>\n",
       "      <td>0</td>\n",
       "      <td>NaN</td>\n",
       "      <td>NaN</td>\n",
       "      <td>NaN</td>\n",
       "      <td>NaN</td>\n",
       "      <td>NaN</td>\n",
       "      <td>NaN</td>\n",
       "    </tr>\n",
       "    <tr>\n",
       "      <th>4397</th>\n",
       "      <td>891096429</td>\n",
       "      <td>41</td>\n",
       "      <td>333</td>\n",
       "      <td>0</td>\n",
       "      <td>US</td>\n",
       "      <td>0</td>\n",
       "      <td>1</td>\n",
       "      <td>38</td>\n",
       "      <td>44</td>\n",
       "      <td>6</td>\n",
       "      <td>0</td>\n",
       "      <td>0</td>\n",
       "      <td>0</td>\n",
       "      <td>NaN</td>\n",
       "      <td>NaN</td>\n",
       "      <td>NaN</td>\n",
       "      <td>NaN</td>\n",
       "      <td>NaN</td>\n",
       "      <td>NaN</td>\n",
       "    </tr>\n",
       "    <tr>\n",
       "      <th>4398</th>\n",
       "      <td>891697584</td>\n",
       "      <td>48</td>\n",
       "      <td>210</td>\n",
       "      <td>0</td>\n",
       "      <td>GB</td>\n",
       "      <td>2,3,5,7,9,10,12,14,15</td>\n",
       "      <td>1</td>\n",
       "      <td>45</td>\n",
       "      <td>51</td>\n",
       "      <td>19</td>\n",
       "      <td>0</td>\n",
       "      <td>0</td>\n",
       "      <td>0</td>\n",
       "      <td>NaN</td>\n",
       "      <td>NaN</td>\n",
       "      <td>NaN</td>\n",
       "      <td>NaN</td>\n",
       "      <td>NaN</td>\n",
       "      <td>NaN</td>\n",
       "    </tr>\n",
       "    <tr>\n",
       "      <th>4399</th>\n",
       "      <td>891095634</td>\n",
       "      <td>22</td>\n",
       "      <td>0</td>\n",
       "      <td>0</td>\n",
       "      <td>IT</td>\n",
       "      <td>0</td>\n",
       "      <td>1</td>\n",
       "      <td>19</td>\n",
       "      <td>25</td>\n",
       "      <td>0</td>\n",
       "      <td>0</td>\n",
       "      <td>0</td>\n",
       "      <td>0</td>\n",
       "      <td>NaN</td>\n",
       "      <td>NaN</td>\n",
       "      <td>NaN</td>\n",
       "      <td>NaN</td>\n",
       "      <td>NaN</td>\n",
       "      <td>NaN</td>\n",
       "    </tr>\n",
       "  </tbody>\n",
       "</table>\n",
       "</div>"
      ],
      "text/plain": [
       "        user_id  age  attraction_distribution  coins country  \\\n",
       "4395  891937401   63                      242      0      IT   \n",
       "4396  891692844   35                      500      0      FR   \n",
       "4397  891096429   41                      333      0      US   \n",
       "4398  891697584   48                      210      0      GB   \n",
       "4399  891095634   22                        0      0      IT   \n",
       "\n",
       "                      retention_days  sex  user_dating.age_start  \\\n",
       "4395                             1,2    1                     50   \n",
       "4396  1,2,3,4,5,6,8,9,10,11,12,14,16    1                     24   \n",
       "4397                               0    1                     38   \n",
       "4398           2,3,5,7,9,10,12,14,15    1                     45   \n",
       "4399                               0    1                     19   \n",
       "\n",
       "      user_dating.age_end  view_count  was_special  is_special  total_revenue  \\\n",
       "4395                   66          33            0           0              0   \n",
       "4396                   45           2            0           0              0   \n",
       "4397                   44           6            0           0              0   \n",
       "4398                   51          19            0           0              0   \n",
       "4399                   25           0            0           0              0   \n",
       "\n",
       "     registration_date payment_date  revenue  payment_service_id place  \\\n",
       "4395               NaN          NaN      NaN                 NaN   NaN   \n",
       "4396               NaN          NaN      NaN                 NaN   NaN   \n",
       "4397               NaN          NaN      NaN                 NaN   NaN   \n",
       "4398               NaN          NaN      NaN                 NaN   NaN   \n",
       "4399               NaN          NaN      NaN                 NaN   NaN   \n",
       "\n",
       "     product_type  \n",
       "4395          NaN  \n",
       "4396          NaN  \n",
       "4397          NaN  \n",
       "4398          NaN  \n",
       "4399          NaN  "
      ]
     },
     "execution_count": 327,
     "metadata": {},
     "output_type": "execute_result"
    }
   ],
   "source": [
    "full_df_2 = portrait_df_2.merge(pay_df_2, how='outer')\n",
    "full_df_2.tail()"
   ]
  },
  {
   "cell_type": "code",
   "execution_count": 328,
   "id": "520ef216",
   "metadata": {},
   "outputs": [
    {
     "name": "stdout",
     "output_type": "stream",
     "text": [
      "<class 'pandas.core.frame.DataFrame'>\n",
      "Int64Index: 4400 entries, 0 to 4399\n",
      "Data columns (total 19 columns):\n",
      " #   Column                   Non-Null Count  Dtype  \n",
      "---  ------                   --------------  -----  \n",
      " 0   user_id                  4400 non-null   int64  \n",
      " 1   age                      4400 non-null   int64  \n",
      " 2   attraction_distribution  4400 non-null   int64  \n",
      " 3   coins                    4400 non-null   int64  \n",
      " 4   country                  4400 non-null   object \n",
      " 5   retention_days           4400 non-null   object \n",
      " 6   sex                      4400 non-null   int64  \n",
      " 7   user_dating.age_start    4400 non-null   int64  \n",
      " 8   user_dating.age_end      4400 non-null   int64  \n",
      " 9   view_count               4400 non-null   int64  \n",
      " 10  was_special              4400 non-null   int64  \n",
      " 11  is_special               4400 non-null   int64  \n",
      " 12  total_revenue            4400 non-null   int64  \n",
      " 13  registration_date        323 non-null    object \n",
      " 14  payment_date             323 non-null    object \n",
      " 15  revenue                  323 non-null    float64\n",
      " 16  payment_service_id       323 non-null    float64\n",
      " 17  place                    323 non-null    object \n",
      " 18  product_type             323 non-null    object \n",
      "dtypes: float64(2), int64(11), object(6)\n",
      "memory usage: 687.5+ KB\n"
     ]
    }
   ],
   "source": [
    "full_df_2.info()"
   ]
  },
  {
   "cell_type": "code",
   "execution_count": 329,
   "id": "5ff25ad9",
   "metadata": {},
   "outputs": [
    {
     "data": {
      "text/html": [
       "<div>\n",
       "<style scoped>\n",
       "    .dataframe tbody tr th:only-of-type {\n",
       "        vertical-align: middle;\n",
       "    }\n",
       "\n",
       "    .dataframe tbody tr th {\n",
       "        vertical-align: top;\n",
       "    }\n",
       "\n",
       "    .dataframe thead th {\n",
       "        text-align: right;\n",
       "    }\n",
       "</style>\n",
       "<table border=\"1\" class=\"dataframe\">\n",
       "  <thead>\n",
       "    <tr style=\"text-align: right;\">\n",
       "      <th></th>\n",
       "      <th>user_id</th>\n",
       "      <th>age</th>\n",
       "      <th>attraction_distribution</th>\n",
       "      <th>coins</th>\n",
       "      <th>country</th>\n",
       "      <th>retention_days</th>\n",
       "      <th>sex</th>\n",
       "      <th>user_dating.age_start</th>\n",
       "      <th>user_dating.age_end</th>\n",
       "      <th>view_count</th>\n",
       "      <th>was_special</th>\n",
       "      <th>is_special</th>\n",
       "      <th>total_revenue</th>\n",
       "      <th>registration_date</th>\n",
       "      <th>payment_date</th>\n",
       "      <th>revenue</th>\n",
       "      <th>payment_service_id</th>\n",
       "      <th>place</th>\n",
       "      <th>product_type</th>\n",
       "    </tr>\n",
       "  </thead>\n",
       "  <tbody>\n",
       "    <tr>\n",
       "      <th>4423</th>\n",
       "      <td>891078639</td>\n",
       "      <td>17</td>\n",
       "      <td>895</td>\n",
       "      <td>0</td>\n",
       "      <td>US</td>\n",
       "      <td>1,2,3,4,5</td>\n",
       "      <td>1</td>\n",
       "      <td>16</td>\n",
       "      <td>20</td>\n",
       "      <td>96</td>\n",
       "      <td>0</td>\n",
       "      <td>0</td>\n",
       "      <td>0</td>\n",
       "      <td>NaN</td>\n",
       "      <td>NaN</td>\n",
       "      <td>NaN</td>\n",
       "      <td>NaN</td>\n",
       "      <td>NaN</td>\n",
       "      <td>NaN</td>\n",
       "    </tr>\n",
       "    <tr>\n",
       "      <th>4424</th>\n",
       "      <td>891188733</td>\n",
       "      <td>27</td>\n",
       "      <td>866</td>\n",
       "      <td>0</td>\n",
       "      <td>US</td>\n",
       "      <td>1,2,3</td>\n",
       "      <td>1</td>\n",
       "      <td>18</td>\n",
       "      <td>41</td>\n",
       "      <td>30</td>\n",
       "      <td>0</td>\n",
       "      <td>0</td>\n",
       "      <td>0</td>\n",
       "      <td>NaN</td>\n",
       "      <td>NaN</td>\n",
       "      <td>NaN</td>\n",
       "      <td>NaN</td>\n",
       "      <td>NaN</td>\n",
       "      <td>NaN</td>\n",
       "    </tr>\n",
       "    <tr>\n",
       "      <th>4425</th>\n",
       "      <td>891293718</td>\n",
       "      <td>48</td>\n",
       "      <td>0</td>\n",
       "      <td>0</td>\n",
       "      <td>AR</td>\n",
       "      <td>0</td>\n",
       "      <td>1</td>\n",
       "      <td>47</td>\n",
       "      <td>51</td>\n",
       "      <td>10</td>\n",
       "      <td>0</td>\n",
       "      <td>0</td>\n",
       "      <td>0</td>\n",
       "      <td>NaN</td>\n",
       "      <td>NaN</td>\n",
       "      <td>NaN</td>\n",
       "      <td>NaN</td>\n",
       "      <td>NaN</td>\n",
       "      <td>NaN</td>\n",
       "    </tr>\n",
       "    <tr>\n",
       "      <th>4426</th>\n",
       "      <td>891192357</td>\n",
       "      <td>32</td>\n",
       "      <td>0</td>\n",
       "      <td>0</td>\n",
       "      <td>AU</td>\n",
       "      <td>0</td>\n",
       "      <td>1</td>\n",
       "      <td>16</td>\n",
       "      <td>49</td>\n",
       "      <td>0</td>\n",
       "      <td>0</td>\n",
       "      <td>0</td>\n",
       "      <td>0</td>\n",
       "      <td>NaN</td>\n",
       "      <td>NaN</td>\n",
       "      <td>NaN</td>\n",
       "      <td>NaN</td>\n",
       "      <td>NaN</td>\n",
       "      <td>NaN</td>\n",
       "    </tr>\n",
       "    <tr>\n",
       "      <th>4427</th>\n",
       "      <td>891668910</td>\n",
       "      <td>35</td>\n",
       "      <td>575</td>\n",
       "      <td>0</td>\n",
       "      <td>AE</td>\n",
       "      <td>1</td>\n",
       "      <td>1</td>\n",
       "      <td>16</td>\n",
       "      <td>99</td>\n",
       "      <td>73</td>\n",
       "      <td>0</td>\n",
       "      <td>0</td>\n",
       "      <td>0</td>\n",
       "      <td>NaN</td>\n",
       "      <td>NaN</td>\n",
       "      <td>NaN</td>\n",
       "      <td>NaN</td>\n",
       "      <td>NaN</td>\n",
       "      <td>NaN</td>\n",
       "    </tr>\n",
       "  </tbody>\n",
       "</table>\n",
       "</div>"
      ],
      "text/plain": [
       "        user_id  age  attraction_distribution  coins country retention_days  \\\n",
       "4423  891078639   17                      895      0      US      1,2,3,4,5   \n",
       "4424  891188733   27                      866      0      US          1,2,3   \n",
       "4425  891293718   48                        0      0      AR              0   \n",
       "4426  891192357   32                        0      0      AU              0   \n",
       "4427  891668910   35                      575      0      AE              1   \n",
       "\n",
       "      sex  user_dating.age_start  user_dating.age_end  view_count  \\\n",
       "4423    1                     16                   20          96   \n",
       "4424    1                     18                   41          30   \n",
       "4425    1                     47                   51          10   \n",
       "4426    1                     16                   49           0   \n",
       "4427    1                     16                   99          73   \n",
       "\n",
       "      was_special  is_special  total_revenue registration_date payment_date  \\\n",
       "4423            0           0              0               NaN          NaN   \n",
       "4424            0           0              0               NaN          NaN   \n",
       "4425            0           0              0               NaN          NaN   \n",
       "4426            0           0              0               NaN          NaN   \n",
       "4427            0           0              0               NaN          NaN   \n",
       "\n",
       "      revenue  payment_service_id place product_type  \n",
       "4423      NaN                 NaN   NaN          NaN  \n",
       "4424      NaN                 NaN   NaN          NaN  \n",
       "4425      NaN                 NaN   NaN          NaN  \n",
       "4426      NaN                 NaN   NaN          NaN  \n",
       "4427      NaN                 NaN   NaN          NaN  "
      ]
     },
     "execution_count": 329,
     "metadata": {},
     "output_type": "execute_result"
    }
   ],
   "source": [
    "full_df_test = portrait_df_test.merge(pay_df_test, how='outer')\n",
    "full_df_test.tail()"
   ]
  },
  {
   "cell_type": "code",
   "execution_count": 330,
   "id": "93acf348",
   "metadata": {},
   "outputs": [
    {
     "name": "stdout",
     "output_type": "stream",
     "text": [
      "<class 'pandas.core.frame.DataFrame'>\n",
      "Int64Index: 4428 entries, 0 to 4427\n",
      "Data columns (total 19 columns):\n",
      " #   Column                   Non-Null Count  Dtype  \n",
      "---  ------                   --------------  -----  \n",
      " 0   user_id                  4428 non-null   int64  \n",
      " 1   age                      4428 non-null   int64  \n",
      " 2   attraction_distribution  4428 non-null   int64  \n",
      " 3   coins                    4428 non-null   int64  \n",
      " 4   country                  4428 non-null   object \n",
      " 5   retention_days           4428 non-null   object \n",
      " 6   sex                      4428 non-null   int64  \n",
      " 7   user_dating.age_start    4428 non-null   int64  \n",
      " 8   user_dating.age_end      4428 non-null   int64  \n",
      " 9   view_count               4428 non-null   int64  \n",
      " 10  was_special              4428 non-null   int64  \n",
      " 11  is_special               4428 non-null   int64  \n",
      " 12  total_revenue            4428 non-null   int64  \n",
      " 13  registration_date        266 non-null    object \n",
      " 14  payment_date             266 non-null    object \n",
      " 15  revenue                  266 non-null    float64\n",
      " 16  payment_service_id       266 non-null    float64\n",
      " 17  place                    266 non-null    object \n",
      " 18  product_type             266 non-null    object \n",
      "dtypes: float64(2), int64(11), object(6)\n",
      "memory usage: 691.9+ KB\n"
     ]
    }
   ],
   "source": [
    "full_df_test.info()"
   ]
  },
  {
   "cell_type": "markdown",
   "id": "f07da9bd",
   "metadata": {},
   "source": [
    "В обновленных таблицах значения столбцов `revenue` и `payment_service_id` тип данных изменился из-за появления пустых данных. Вернем колонке `revenue` тип данных `int64`, заменив перед этим пустые значения нулем."
   ]
  },
  {
   "cell_type": "code",
   "execution_count": 331,
   "id": "923db89a",
   "metadata": {},
   "outputs": [
    {
     "name": "stdout",
     "output_type": "stream",
     "text": [
      "<class 'pandas.core.series.Series'>\n",
      "Int64Index: 4503 entries, 0 to 4502\n",
      "Series name: revenue\n",
      "Non-Null Count  Dtype\n",
      "--------------  -----\n",
      "4503 non-null   int64\n",
      "dtypes: int64(1)\n",
      "memory usage: 70.4 KB\n"
     ]
    }
   ],
   "source": [
    "full_df_1['revenue'] = full_df_1['revenue'].fillna(0)\n",
    "full_df_1['revenue'] = full_df_1['revenue'].astype('int64')\n",
    "full_df_1['revenue'].info()"
   ]
  },
  {
   "cell_type": "code",
   "execution_count": 332,
   "id": "cbff2468",
   "metadata": {},
   "outputs": [
    {
     "name": "stdout",
     "output_type": "stream",
     "text": [
      "<class 'pandas.core.series.Series'>\n",
      "Int64Index: 4400 entries, 0 to 4399\n",
      "Series name: revenue\n",
      "Non-Null Count  Dtype\n",
      "--------------  -----\n",
      "4400 non-null   int64\n",
      "dtypes: int64(1)\n",
      "memory usage: 68.8 KB\n"
     ]
    }
   ],
   "source": [
    "full_df_2['revenue'] = full_df_2['revenue'].fillna(0)\n",
    "full_df_2['revenue'] = full_df_2['revenue'].astype('int64')\n",
    "full_df_2['revenue'].info()"
   ]
  },
  {
   "cell_type": "code",
   "execution_count": 333,
   "id": "7f01b9f7",
   "metadata": {},
   "outputs": [
    {
     "name": "stdout",
     "output_type": "stream",
     "text": [
      "<class 'pandas.core.series.Series'>\n",
      "Int64Index: 4428 entries, 0 to 4427\n",
      "Series name: revenue\n",
      "Non-Null Count  Dtype\n",
      "--------------  -----\n",
      "4428 non-null   int64\n",
      "dtypes: int64(1)\n",
      "memory usage: 69.2 KB\n"
     ]
    }
   ],
   "source": [
    "full_df_test['revenue'] = full_df_test['revenue'].fillna(0)\n",
    "full_df_test['revenue'] = full_df_test['revenue'].astype('int64')\n",
    "full_df_test['revenue'].info()"
   ]
  },
  {
   "cell_type": "markdown",
   "id": "ba08e70e",
   "metadata": {},
   "source": [
    "Присоединив таблицу платежей к таблице портретов, мы можем наблюдать, что пользователей, произведших оплату сильно меньше, чем всего пользователей. Проведем анализ, чтобы выяснить, какие люди пользуются приложением, после чего посмотрим, "
   ]
  },
  {
   "cell_type": "code",
   "execution_count": 334,
   "id": "58c3fdd1",
   "metadata": {},
   "outputs": [],
   "source": [
    "def user_statistics(df):\n",
    "    sex_relation_men = df[df['sex'] == 1].shape[0] / df.shape[0]\n",
    "    sex_relation_women = df[df['sex'] == 0].shape[0] / df.shape[0]\n",
    "    mean_age = df['age'].mean()\n",
    "    age_min = df['age'].min()\n",
    "    age_max = df['age'].max()\n",
    "    prem =  df[df['product_type'] == 'prem']\n",
    "    prem_rel_men = prem[prem['sex'] == 1].shape[0] / prem.shape[0]\n",
    "    prem_rel_women = prem[prem['sex'] == 0].shape[0] / prem.shape[0]\n",
    "    prem_number_men = prem[prem['sex'] == 1].shape[0]\n",
    "    prem_number_women = prem[prem['sex'] == 0].shape[0]\n",
    "    \n",
    "    print(f'В таблице {sex_relation_men:.0%} мужчин и {sex_relation_women:.0%} женщин\\n'\n",
    "          f'Cредний возраст пользователя - {mean_age:.0f} года/лет\\nMинимальный - {age_min}\\n'\n",
    "          f'Mаксимальный - {age_max}\\nМужчин, купивших премиум подписку - {prem_rel_men:.0%}, {prem_number_men:.0f} человек(-а)\\n'\n",
    "          f'Женщин, купивших премиум подписку - {prem_rel_women:.0%}, {prem_number_women:.0f} человек(-а)')"
   ]
  },
  {
   "cell_type": "code",
   "execution_count": 335,
   "id": "aa0d84be",
   "metadata": {},
   "outputs": [
    {
     "name": "stdout",
     "output_type": "stream",
     "text": [
      "В таблице 96% мужчин и 4% женщин\n",
      "Cредний возраст пользователя - 32 года/лет\n",
      "Mинимальный - 16\n",
      "Mаксимальный - 99\n",
      "Мужчин, купивших премиум подписку - 100%, 106 человек(-а)\n",
      "Женщин, купивших премиум подписку - 0%, 0 человек(-а)\n"
     ]
    }
   ],
   "source": [
    "user_statistics(full_df_1)"
   ]
  },
  {
   "cell_type": "code",
   "execution_count": 336,
   "id": "abd8b0ce",
   "metadata": {
    "scrolled": false
   },
   "outputs": [
    {
     "name": "stdout",
     "output_type": "stream",
     "text": [
      "В таблице 96% мужчин и 4% женщин\n",
      "Cредний возраст пользователя - 32 года/лет\n",
      "Mинимальный - 16\n",
      "Mаксимальный - 99\n",
      "Мужчин, купивших премиум подписку - 95%, 102 человек(-а)\n",
      "Женщин, купивших премиум подписку - 5%, 5 человек(-а)\n"
     ]
    }
   ],
   "source": [
    "user_statistics(full_df_2)"
   ]
  },
  {
   "cell_type": "code",
   "execution_count": 337,
   "id": "e811eee6",
   "metadata": {},
   "outputs": [
    {
     "data": {
      "text/html": [
       "<div>\n",
       "<style scoped>\n",
       "    .dataframe tbody tr th:only-of-type {\n",
       "        vertical-align: middle;\n",
       "    }\n",
       "\n",
       "    .dataframe tbody tr th {\n",
       "        vertical-align: top;\n",
       "    }\n",
       "\n",
       "    .dataframe thead th {\n",
       "        text-align: right;\n",
       "    }\n",
       "</style>\n",
       "<table border=\"1\" class=\"dataframe\">\n",
       "  <thead>\n",
       "    <tr style=\"text-align: right;\">\n",
       "      <th></th>\n",
       "      <th>user_id</th>\n",
       "      <th>age</th>\n",
       "      <th>attraction_distribution</th>\n",
       "      <th>coins</th>\n",
       "      <th>country</th>\n",
       "      <th>retention_days</th>\n",
       "      <th>sex</th>\n",
       "      <th>user_dating.age_start</th>\n",
       "      <th>user_dating.age_end</th>\n",
       "      <th>view_count</th>\n",
       "      <th>was_special</th>\n",
       "      <th>is_special</th>\n",
       "      <th>total_revenue</th>\n",
       "      <th>registration_date</th>\n",
       "      <th>payment_date</th>\n",
       "      <th>revenue</th>\n",
       "      <th>payment_service_id</th>\n",
       "      <th>place</th>\n",
       "      <th>product_type</th>\n",
       "    </tr>\n",
       "  </thead>\n",
       "  <tbody>\n",
       "    <tr>\n",
       "      <th>157</th>\n",
       "      <td>891291573</td>\n",
       "      <td>37</td>\n",
       "      <td>382</td>\n",
       "      <td>0</td>\n",
       "      <td>US</td>\n",
       "      <td>1,2,3</td>\n",
       "      <td>0</td>\n",
       "      <td>34</td>\n",
       "      <td>40</td>\n",
       "      <td>471</td>\n",
       "      <td>1</td>\n",
       "      <td>1</td>\n",
       "      <td>6292</td>\n",
       "      <td>06.11.2017 4:33</td>\n",
       "      <td>09.11.2017 5:55</td>\n",
       "      <td>6292</td>\n",
       "      <td>147.0</td>\n",
       "      <td>LeftMenu</td>\n",
       "      <td>prem</td>\n",
       "    </tr>\n",
       "    <tr>\n",
       "      <th>244</th>\n",
       "      <td>892032072</td>\n",
       "      <td>26</td>\n",
       "      <td>0</td>\n",
       "      <td>0</td>\n",
       "      <td>GB</td>\n",
       "      <td>1,2,3</td>\n",
       "      <td>0</td>\n",
       "      <td>16</td>\n",
       "      <td>99</td>\n",
       "      <td>16157</td>\n",
       "      <td>1</td>\n",
       "      <td>0</td>\n",
       "      <td>3588</td>\n",
       "      <td>22.10.2017 14:21</td>\n",
       "      <td>23.10.2017 15:37</td>\n",
       "      <td>3588</td>\n",
       "      <td>68.0</td>\n",
       "      <td>none</td>\n",
       "      <td>prem</td>\n",
       "    </tr>\n",
       "    <tr>\n",
       "      <th>1783</th>\n",
       "      <td>892333464</td>\n",
       "      <td>34</td>\n",
       "      <td>316</td>\n",
       "      <td>0</td>\n",
       "      <td>US</td>\n",
       "      <td>1</td>\n",
       "      <td>0</td>\n",
       "      <td>31</td>\n",
       "      <td>37</td>\n",
       "      <td>698</td>\n",
       "      <td>1</td>\n",
       "      <td>1</td>\n",
       "      <td>4537</td>\n",
       "      <td>16.10.2017 1:51</td>\n",
       "      <td>16.10.2017 1:57</td>\n",
       "      <td>4537</td>\n",
       "      <td>147.0</td>\n",
       "      <td>none</td>\n",
       "      <td>prem</td>\n",
       "    </tr>\n",
       "    <tr>\n",
       "      <th>4039</th>\n",
       "      <td>891170697</td>\n",
       "      <td>35</td>\n",
       "      <td>664</td>\n",
       "      <td>0</td>\n",
       "      <td>GB</td>\n",
       "      <td>1,2</td>\n",
       "      <td>0</td>\n",
       "      <td>30</td>\n",
       "      <td>71</td>\n",
       "      <td>542</td>\n",
       "      <td>1</td>\n",
       "      <td>1</td>\n",
       "      <td>4693</td>\n",
       "      <td>08.11.2017 9:55</td>\n",
       "      <td>08.11.2017 10:30</td>\n",
       "      <td>4693</td>\n",
       "      <td>147.0</td>\n",
       "      <td>LeftMenu</td>\n",
       "      <td>prem</td>\n",
       "    </tr>\n",
       "    <tr>\n",
       "      <th>4283</th>\n",
       "      <td>891826944</td>\n",
       "      <td>36</td>\n",
       "      <td>43</td>\n",
       "      <td>0</td>\n",
       "      <td>DE</td>\n",
       "      <td>1,2,3,4,5,6,7,8,9,10,11,12,13,14,15,16,17,18,19</td>\n",
       "      <td>0</td>\n",
       "      <td>27</td>\n",
       "      <td>33</td>\n",
       "      <td>1317</td>\n",
       "      <td>1</td>\n",
       "      <td>1</td>\n",
       "      <td>6292</td>\n",
       "      <td>26.10.2017 20:47</td>\n",
       "      <td>31.10.2017 22:51</td>\n",
       "      <td>6292</td>\n",
       "      <td>147.0</td>\n",
       "      <td>PopularUserBlockDialog</td>\n",
       "      <td>prem</td>\n",
       "    </tr>\n",
       "  </tbody>\n",
       "</table>\n",
       "</div>"
      ],
      "text/plain": [
       "        user_id  age  attraction_distribution  coins country  \\\n",
       "157   891291573   37                      382      0      US   \n",
       "244   892032072   26                        0      0      GB   \n",
       "1783  892333464   34                      316      0      US   \n",
       "4039  891170697   35                      664      0      GB   \n",
       "4283  891826944   36                       43      0      DE   \n",
       "\n",
       "                                       retention_days  sex  \\\n",
       "157                                             1,2,3    0   \n",
       "244                                             1,2,3    0   \n",
       "1783                                                1    0   \n",
       "4039                                              1,2    0   \n",
       "4283  1,2,3,4,5,6,7,8,9,10,11,12,13,14,15,16,17,18,19    0   \n",
       "\n",
       "      user_dating.age_start  user_dating.age_end  view_count  was_special  \\\n",
       "157                      34                   40         471            1   \n",
       "244                      16                   99       16157            1   \n",
       "1783                     31                   37         698            1   \n",
       "4039                     30                   71         542            1   \n",
       "4283                     27                   33        1317            1   \n",
       "\n",
       "      is_special  total_revenue registration_date      payment_date  revenue  \\\n",
       "157            1           6292   06.11.2017 4:33   09.11.2017 5:55     6292   \n",
       "244            0           3588  22.10.2017 14:21  23.10.2017 15:37     3588   \n",
       "1783           1           4537   16.10.2017 1:51   16.10.2017 1:57     4537   \n",
       "4039           1           4693   08.11.2017 9:55  08.11.2017 10:30     4693   \n",
       "4283           1           6292  26.10.2017 20:47  31.10.2017 22:51     6292   \n",
       "\n",
       "      payment_service_id                   place product_type  \n",
       "157                147.0                LeftMenu         prem  \n",
       "244                 68.0                    none         prem  \n",
       "1783               147.0                    none         prem  \n",
       "4039               147.0                LeftMenu         prem  \n",
       "4283               147.0  PopularUserBlockDialog         prem  "
      ]
     },
     "execution_count": 337,
     "metadata": {},
     "output_type": "execute_result"
    }
   ],
   "source": [
    "full_df_2.query('sex == 0 and product_type == \"prem\"')"
   ]
  },
  {
   "cell_type": "code",
   "execution_count": 338,
   "id": "01754e27",
   "metadata": {
    "scrolled": true
   },
   "outputs": [
    {
     "name": "stdout",
     "output_type": "stream",
     "text": [
      "В таблице 95% мужчин и 5% женщин\n",
      "Cредний возраст пользователя - 32 года/лет\n",
      "Mинимальный - 16\n",
      "Mаксимальный - 99\n",
      "Мужчин, купивших премиум подписку - 100%, 76 человек(-а)\n",
      "Женщин, купивших премиум подписку - 0%, 0 человек(-а)\n"
     ]
    }
   ],
   "source": [
    "user_statistics(full_df_test)"
   ]
  },
  {
   "cell_type": "markdown",
   "id": "96c8a637",
   "metadata": {},
   "source": [
    "Как мы видим, подавляющее большинство покупателей премиум подписки - мужчины.\n",
    "\n",
    "Тем не менее, во второй контрольной группе 5% покупателей премиума - это женщины. Таким образом, женщины тоже, хоть и редко, покупают подписку, это значит, что для них не следует вводить стоимость, увеличенную в два раза, чтобы не терять потенциальную группу покупателей премиума."
   ]
  },
  {
   "cell_type": "code",
   "execution_count": 339,
   "id": "780779c2",
   "metadata": {},
   "outputs": [
    {
     "data": {
      "text/plain": [
       "array([16, 17, 18, 19, 20, 21, 22, 23, 24, 25, 26, 27, 28, 29, 30, 31, 32,\n",
       "       33, 34, 35, 36, 37, 38, 39, 40, 41, 42, 43, 44, 45, 46, 47, 48, 49,\n",
       "       50, 51, 52, 53, 54, 55, 56, 57, 58, 59, 60, 61, 62, 63, 66, 71, 72,\n",
       "       73, 75, 91, 98, 99], dtype=int64)"
      ]
     },
     "execution_count": 339,
     "metadata": {},
     "output_type": "execute_result"
    }
   ],
   "source": [
    "full_df_1['age'].sort_values().unique()"
   ]
  },
  {
   "cell_type": "markdown",
   "id": "5013c576",
   "metadata": {},
   "source": [
    "Пользователи в таблице практически всех возрастов. Посмотрим на пользователей старше 70 лет и определимся, выброс ли это."
   ]
  },
  {
   "cell_type": "code",
   "execution_count": 340,
   "id": "75c2a3bf",
   "metadata": {
    "scrolled": true
   },
   "outputs": [
    {
     "data": {
      "text/html": [
       "<div>\n",
       "<style scoped>\n",
       "    .dataframe tbody tr th:only-of-type {\n",
       "        vertical-align: middle;\n",
       "    }\n",
       "\n",
       "    .dataframe tbody tr th {\n",
       "        vertical-align: top;\n",
       "    }\n",
       "\n",
       "    .dataframe thead th {\n",
       "        text-align: right;\n",
       "    }\n",
       "</style>\n",
       "<table border=\"1\" class=\"dataframe\">\n",
       "  <thead>\n",
       "    <tr style=\"text-align: right;\">\n",
       "      <th></th>\n",
       "      <th>user_id</th>\n",
       "      <th>age</th>\n",
       "      <th>attraction_distribution</th>\n",
       "      <th>coins</th>\n",
       "      <th>country</th>\n",
       "      <th>retention_days</th>\n",
       "      <th>sex</th>\n",
       "      <th>user_dating.age_start</th>\n",
       "      <th>user_dating.age_end</th>\n",
       "      <th>view_count</th>\n",
       "      <th>was_special</th>\n",
       "      <th>is_special</th>\n",
       "      <th>total_revenue</th>\n",
       "      <th>registration_date</th>\n",
       "      <th>payment_date</th>\n",
       "      <th>revenue</th>\n",
       "      <th>payment_service_id</th>\n",
       "      <th>place</th>\n",
       "      <th>product_type</th>\n",
       "    </tr>\n",
       "  </thead>\n",
       "  <tbody>\n",
       "    <tr>\n",
       "      <th>69</th>\n",
       "      <td>891520800</td>\n",
       "      <td>71</td>\n",
       "      <td>425</td>\n",
       "      <td>0</td>\n",
       "      <td>IT</td>\n",
       "      <td>1,2</td>\n",
       "      <td>1</td>\n",
       "      <td>50</td>\n",
       "      <td>70</td>\n",
       "      <td>47</td>\n",
       "      <td>0</td>\n",
       "      <td>0</td>\n",
       "      <td>0</td>\n",
       "      <td>NaN</td>\n",
       "      <td>NaN</td>\n",
       "      <td>0</td>\n",
       "      <td>NaN</td>\n",
       "      <td>NaN</td>\n",
       "      <td>NaN</td>\n",
       "    </tr>\n",
       "    <tr>\n",
       "      <th>790</th>\n",
       "      <td>891746646</td>\n",
       "      <td>99</td>\n",
       "      <td>300</td>\n",
       "      <td>0</td>\n",
       "      <td>IT</td>\n",
       "      <td>0</td>\n",
       "      <td>1</td>\n",
       "      <td>50</td>\n",
       "      <td>70</td>\n",
       "      <td>10</td>\n",
       "      <td>0</td>\n",
       "      <td>0</td>\n",
       "      <td>0</td>\n",
       "      <td>NaN</td>\n",
       "      <td>NaN</td>\n",
       "      <td>0</td>\n",
       "      <td>NaN</td>\n",
       "      <td>NaN</td>\n",
       "      <td>NaN</td>\n",
       "    </tr>\n",
       "    <tr>\n",
       "      <th>1520</th>\n",
       "      <td>891918399</td>\n",
       "      <td>99</td>\n",
       "      <td>62</td>\n",
       "      <td>0</td>\n",
       "      <td>IT</td>\n",
       "      <td>1,2,3</td>\n",
       "      <td>1</td>\n",
       "      <td>50</td>\n",
       "      <td>99</td>\n",
       "      <td>16</td>\n",
       "      <td>0</td>\n",
       "      <td>0</td>\n",
       "      <td>0</td>\n",
       "      <td>NaN</td>\n",
       "      <td>NaN</td>\n",
       "      <td>0</td>\n",
       "      <td>NaN</td>\n",
       "      <td>NaN</td>\n",
       "      <td>NaN</td>\n",
       "    </tr>\n",
       "    <tr>\n",
       "      <th>1933</th>\n",
       "      <td>891374112</td>\n",
       "      <td>99</td>\n",
       "      <td>900</td>\n",
       "      <td>0</td>\n",
       "      <td>AE</td>\n",
       "      <td>1,2,3,4,5,6,7,8,9,10,11</td>\n",
       "      <td>1</td>\n",
       "      <td>16</td>\n",
       "      <td>99</td>\n",
       "      <td>462</td>\n",
       "      <td>0</td>\n",
       "      <td>0</td>\n",
       "      <td>0</td>\n",
       "      <td>NaN</td>\n",
       "      <td>NaN</td>\n",
       "      <td>0</td>\n",
       "      <td>NaN</td>\n",
       "      <td>NaN</td>\n",
       "      <td>NaN</td>\n",
       "    </tr>\n",
       "    <tr>\n",
       "      <th>2199</th>\n",
       "      <td>892185039</td>\n",
       "      <td>99</td>\n",
       "      <td>759</td>\n",
       "      <td>0</td>\n",
       "      <td>GB</td>\n",
       "      <td>1,2,3,4,5,6,7,8,9</td>\n",
       "      <td>1</td>\n",
       "      <td>43</td>\n",
       "      <td>49</td>\n",
       "      <td>79</td>\n",
       "      <td>1</td>\n",
       "      <td>1</td>\n",
       "      <td>7332</td>\n",
       "      <td>19.10.2017 7:36</td>\n",
       "      <td>19.10.2017 7:52</td>\n",
       "      <td>7332</td>\n",
       "      <td>147.0</td>\n",
       "      <td>Dating</td>\n",
       "      <td>prem</td>\n",
       "    </tr>\n",
       "    <tr>\n",
       "      <th>2336</th>\n",
       "      <td>892321845</td>\n",
       "      <td>99</td>\n",
       "      <td>500</td>\n",
       "      <td>0</td>\n",
       "      <td>US</td>\n",
       "      <td>0</td>\n",
       "      <td>1</td>\n",
       "      <td>22</td>\n",
       "      <td>99</td>\n",
       "      <td>4</td>\n",
       "      <td>0</td>\n",
       "      <td>0</td>\n",
       "      <td>0</td>\n",
       "      <td>NaN</td>\n",
       "      <td>NaN</td>\n",
       "      <td>0</td>\n",
       "      <td>NaN</td>\n",
       "      <td>NaN</td>\n",
       "      <td>NaN</td>\n",
       "    </tr>\n",
       "    <tr>\n",
       "      <th>2412</th>\n",
       "      <td>891682545</td>\n",
       "      <td>99</td>\n",
       "      <td>0</td>\n",
       "      <td>0</td>\n",
       "      <td>US</td>\n",
       "      <td>0</td>\n",
       "      <td>1</td>\n",
       "      <td>96</td>\n",
       "      <td>102</td>\n",
       "      <td>0</td>\n",
       "      <td>0</td>\n",
       "      <td>0</td>\n",
       "      <td>0</td>\n",
       "      <td>NaN</td>\n",
       "      <td>NaN</td>\n",
       "      <td>0</td>\n",
       "      <td>NaN</td>\n",
       "      <td>NaN</td>\n",
       "      <td>NaN</td>\n",
       "    </tr>\n",
       "    <tr>\n",
       "      <th>2517</th>\n",
       "      <td>891836703</td>\n",
       "      <td>75</td>\n",
       "      <td>0</td>\n",
       "      <td>0</td>\n",
       "      <td>IT</td>\n",
       "      <td>1</td>\n",
       "      <td>1</td>\n",
       "      <td>16</td>\n",
       "      <td>99</td>\n",
       "      <td>0</td>\n",
       "      <td>0</td>\n",
       "      <td>0</td>\n",
       "      <td>0</td>\n",
       "      <td>NaN</td>\n",
       "      <td>NaN</td>\n",
       "      <td>0</td>\n",
       "      <td>NaN</td>\n",
       "      <td>NaN</td>\n",
       "      <td>NaN</td>\n",
       "    </tr>\n",
       "    <tr>\n",
       "      <th>2576</th>\n",
       "      <td>892330656</td>\n",
       "      <td>71</td>\n",
       "      <td>340</td>\n",
       "      <td>0</td>\n",
       "      <td>IT</td>\n",
       "      <td>1,2,3,4,5,6,7,8,9,10,11,12,13,14,15,16,17,18,1...</td>\n",
       "      <td>1</td>\n",
       "      <td>33</td>\n",
       "      <td>98</td>\n",
       "      <td>250</td>\n",
       "      <td>0</td>\n",
       "      <td>0</td>\n",
       "      <td>0</td>\n",
       "      <td>NaN</td>\n",
       "      <td>NaN</td>\n",
       "      <td>0</td>\n",
       "      <td>NaN</td>\n",
       "      <td>NaN</td>\n",
       "      <td>NaN</td>\n",
       "    </tr>\n",
       "    <tr>\n",
       "      <th>2951</th>\n",
       "      <td>891900387</td>\n",
       "      <td>99</td>\n",
       "      <td>333</td>\n",
       "      <td>0</td>\n",
       "      <td>IT</td>\n",
       "      <td>1,3,4</td>\n",
       "      <td>1</td>\n",
       "      <td>16</td>\n",
       "      <td>99</td>\n",
       "      <td>3</td>\n",
       "      <td>0</td>\n",
       "      <td>0</td>\n",
       "      <td>0</td>\n",
       "      <td>NaN</td>\n",
       "      <td>NaN</td>\n",
       "      <td>0</td>\n",
       "      <td>NaN</td>\n",
       "      <td>NaN</td>\n",
       "      <td>NaN</td>\n",
       "    </tr>\n",
       "    <tr>\n",
       "      <th>3028</th>\n",
       "      <td>892335240</td>\n",
       "      <td>98</td>\n",
       "      <td>593</td>\n",
       "      <td>0</td>\n",
       "      <td>US</td>\n",
       "      <td>1</td>\n",
       "      <td>1</td>\n",
       "      <td>22</td>\n",
       "      <td>28</td>\n",
       "      <td>32</td>\n",
       "      <td>0</td>\n",
       "      <td>0</td>\n",
       "      <td>0</td>\n",
       "      <td>NaN</td>\n",
       "      <td>NaN</td>\n",
       "      <td>0</td>\n",
       "      <td>NaN</td>\n",
       "      <td>NaN</td>\n",
       "      <td>NaN</td>\n",
       "    </tr>\n",
       "    <tr>\n",
       "      <th>3181</th>\n",
       "      <td>892244970</td>\n",
       "      <td>72</td>\n",
       "      <td>555</td>\n",
       "      <td>0</td>\n",
       "      <td>IT</td>\n",
       "      <td>1,2,3,4,5,6,7,8</td>\n",
       "      <td>1</td>\n",
       "      <td>69</td>\n",
       "      <td>75</td>\n",
       "      <td>18</td>\n",
       "      <td>0</td>\n",
       "      <td>0</td>\n",
       "      <td>0</td>\n",
       "      <td>NaN</td>\n",
       "      <td>NaN</td>\n",
       "      <td>0</td>\n",
       "      <td>NaN</td>\n",
       "      <td>NaN</td>\n",
       "      <td>NaN</td>\n",
       "    </tr>\n",
       "    <tr>\n",
       "      <th>3544</th>\n",
       "      <td>892278777</td>\n",
       "      <td>91</td>\n",
       "      <td>384</td>\n",
       "      <td>0</td>\n",
       "      <td>AE</td>\n",
       "      <td>1</td>\n",
       "      <td>1</td>\n",
       "      <td>16</td>\n",
       "      <td>23</td>\n",
       "      <td>13</td>\n",
       "      <td>0</td>\n",
       "      <td>0</td>\n",
       "      <td>0</td>\n",
       "      <td>NaN</td>\n",
       "      <td>NaN</td>\n",
       "      <td>0</td>\n",
       "      <td>NaN</td>\n",
       "      <td>NaN</td>\n",
       "      <td>NaN</td>\n",
       "    </tr>\n",
       "    <tr>\n",
       "      <th>4109</th>\n",
       "      <td>891666828</td>\n",
       "      <td>73</td>\n",
       "      <td>133</td>\n",
       "      <td>0</td>\n",
       "      <td>IT</td>\n",
       "      <td>1</td>\n",
       "      <td>1</td>\n",
       "      <td>70</td>\n",
       "      <td>76</td>\n",
       "      <td>15</td>\n",
       "      <td>0</td>\n",
       "      <td>0</td>\n",
       "      <td>0</td>\n",
       "      <td>NaN</td>\n",
       "      <td>NaN</td>\n",
       "      <td>0</td>\n",
       "      <td>NaN</td>\n",
       "      <td>NaN</td>\n",
       "      <td>NaN</td>\n",
       "    </tr>\n",
       "  </tbody>\n",
       "</table>\n",
       "</div>"
      ],
      "text/plain": [
       "        user_id  age  attraction_distribution  coins country  \\\n",
       "69    891520800   71                      425      0      IT   \n",
       "790   891746646   99                      300      0      IT   \n",
       "1520  891918399   99                       62      0      IT   \n",
       "1933  891374112   99                      900      0      AE   \n",
       "2199  892185039   99                      759      0      GB   \n",
       "2336  892321845   99                      500      0      US   \n",
       "2412  891682545   99                        0      0      US   \n",
       "2517  891836703   75                        0      0      IT   \n",
       "2576  892330656   71                      340      0      IT   \n",
       "2951  891900387   99                      333      0      IT   \n",
       "3028  892335240   98                      593      0      US   \n",
       "3181  892244970   72                      555      0      IT   \n",
       "3544  892278777   91                      384      0      AE   \n",
       "4109  891666828   73                      133      0      IT   \n",
       "\n",
       "                                         retention_days  sex  \\\n",
       "69                                                  1,2    1   \n",
       "790                                                   0    1   \n",
       "1520                                              1,2,3    1   \n",
       "1933                            1,2,3,4,5,6,7,8,9,10,11    1   \n",
       "2199                                  1,2,3,4,5,6,7,8,9    1   \n",
       "2336                                                  0    1   \n",
       "2412                                                  0    1   \n",
       "2517                                                  1    1   \n",
       "2576  1,2,3,4,5,6,7,8,9,10,11,12,13,14,15,16,17,18,1...    1   \n",
       "2951                                              1,3,4    1   \n",
       "3028                                                  1    1   \n",
       "3181                                    1,2,3,4,5,6,7,8    1   \n",
       "3544                                                  1    1   \n",
       "4109                                                  1    1   \n",
       "\n",
       "      user_dating.age_start  user_dating.age_end  view_count  was_special  \\\n",
       "69                       50                   70          47            0   \n",
       "790                      50                   70          10            0   \n",
       "1520                     50                   99          16            0   \n",
       "1933                     16                   99         462            0   \n",
       "2199                     43                   49          79            1   \n",
       "2336                     22                   99           4            0   \n",
       "2412                     96                  102           0            0   \n",
       "2517                     16                   99           0            0   \n",
       "2576                     33                   98         250            0   \n",
       "2951                     16                   99           3            0   \n",
       "3028                     22                   28          32            0   \n",
       "3181                     69                   75          18            0   \n",
       "3544                     16                   23          13            0   \n",
       "4109                     70                   76          15            0   \n",
       "\n",
       "      is_special  total_revenue registration_date     payment_date  revenue  \\\n",
       "69             0              0               NaN              NaN        0   \n",
       "790            0              0               NaN              NaN        0   \n",
       "1520           0              0               NaN              NaN        0   \n",
       "1933           0              0               NaN              NaN        0   \n",
       "2199           1           7332   19.10.2017 7:36  19.10.2017 7:52     7332   \n",
       "2336           0              0               NaN              NaN        0   \n",
       "2412           0              0               NaN              NaN        0   \n",
       "2517           0              0               NaN              NaN        0   \n",
       "2576           0              0               NaN              NaN        0   \n",
       "2951           0              0               NaN              NaN        0   \n",
       "3028           0              0               NaN              NaN        0   \n",
       "3181           0              0               NaN              NaN        0   \n",
       "3544           0              0               NaN              NaN        0   \n",
       "4109           0              0               NaN              NaN        0   \n",
       "\n",
       "      payment_service_id   place product_type  \n",
       "69                   NaN     NaN          NaN  \n",
       "790                  NaN     NaN          NaN  \n",
       "1520                 NaN     NaN          NaN  \n",
       "1933                 NaN     NaN          NaN  \n",
       "2199               147.0  Dating         prem  \n",
       "2336                 NaN     NaN          NaN  \n",
       "2412                 NaN     NaN          NaN  \n",
       "2517                 NaN     NaN          NaN  \n",
       "2576                 NaN     NaN          NaN  \n",
       "2951                 NaN     NaN          NaN  \n",
       "3028                 NaN     NaN          NaN  \n",
       "3181                 NaN     NaN          NaN  \n",
       "3544                 NaN     NaN          NaN  \n",
       "4109                 NaN     NaN          NaN  "
      ]
     },
     "execution_count": 340,
     "metadata": {},
     "output_type": "execute_result"
    }
   ],
   "source": [
    "full_df_70 = full_df_1.query('age > 70')\n",
    "full_df_70"
   ]
  },
  {
   "cell_type": "code",
   "execution_count": 341,
   "id": "f30925f3",
   "metadata": {},
   "outputs": [
    {
     "data": {
      "text/plain": [
       "99    7\n",
       "71    2\n",
       "75    1\n",
       "98    1\n",
       "72    1\n",
       "91    1\n",
       "73    1\n",
       "Name: age, dtype: int64"
      ]
     },
     "execution_count": 341,
     "metadata": {},
     "output_type": "execute_result"
    }
   ],
   "source": [
    "full_df_70['age'].value_counts()"
   ]
  },
  {
   "cell_type": "code",
   "execution_count": 342,
   "id": "4a6a7b01",
   "metadata": {},
   "outputs": [
    {
     "data": {
      "text/plain": [
       "14"
      ]
     },
     "execution_count": 342,
     "metadata": {},
     "output_type": "execute_result"
    }
   ],
   "source": [
    "full_df_70['user_id'].nunique()"
   ]
  },
  {
   "cell_type": "markdown",
   "id": "501853a3",
   "metadata": {},
   "source": [
    "Действительно может быть, что пожилой человек пользуется приложением, но 7 человек в возрасте 99 лет и в реальной жизни найти сложно, а в приложении тем более. \n",
    "\n",
    "Впрочем, мы не можем наверняка знать, действительно ли в данных ошибка или пользователи указали другой возраст, поэтому оставим все как есть, ибо данные об этих пользователях немногочисленные и на выборку сильно не влияют.\n",
    "\n",
    "Тем не менее, есть один человек в возрасте 99 лет, который оплатил премиум подписку."
   ]
  },
  {
   "cell_type": "code",
   "execution_count": 343,
   "id": "ace38bdb",
   "metadata": {},
   "outputs": [
    {
     "data": {
      "text/html": [
       "<div>\n",
       "<style scoped>\n",
       "    .dataframe tbody tr th:only-of-type {\n",
       "        vertical-align: middle;\n",
       "    }\n",
       "\n",
       "    .dataframe tbody tr th {\n",
       "        vertical-align: top;\n",
       "    }\n",
       "\n",
       "    .dataframe thead th {\n",
       "        text-align: right;\n",
       "    }\n",
       "</style>\n",
       "<table border=\"1\" class=\"dataframe\">\n",
       "  <thead>\n",
       "    <tr style=\"text-align: right;\">\n",
       "      <th></th>\n",
       "      <th>user_id</th>\n",
       "      <th>age</th>\n",
       "      <th>attraction_distribution</th>\n",
       "      <th>coins</th>\n",
       "      <th>country</th>\n",
       "      <th>retention_days</th>\n",
       "      <th>sex</th>\n",
       "      <th>user_dating.age_start</th>\n",
       "      <th>user_dating.age_end</th>\n",
       "      <th>view_count</th>\n",
       "      <th>was_special</th>\n",
       "      <th>is_special</th>\n",
       "      <th>total_revenue</th>\n",
       "      <th>registration_date</th>\n",
       "      <th>payment_date</th>\n",
       "      <th>revenue</th>\n",
       "      <th>payment_service_id</th>\n",
       "      <th>place</th>\n",
       "      <th>product_type</th>\n",
       "    </tr>\n",
       "  </thead>\n",
       "  <tbody>\n",
       "    <tr>\n",
       "      <th>2199</th>\n",
       "      <td>892185039</td>\n",
       "      <td>99</td>\n",
       "      <td>759</td>\n",
       "      <td>0</td>\n",
       "      <td>GB</td>\n",
       "      <td>1,2,3,4,5,6,7,8,9</td>\n",
       "      <td>1</td>\n",
       "      <td>43</td>\n",
       "      <td>49</td>\n",
       "      <td>79</td>\n",
       "      <td>1</td>\n",
       "      <td>1</td>\n",
       "      <td>7332</td>\n",
       "      <td>19.10.2017 7:36</td>\n",
       "      <td>19.10.2017 7:52</td>\n",
       "      <td>7332</td>\n",
       "      <td>147.0</td>\n",
       "      <td>Dating</td>\n",
       "      <td>prem</td>\n",
       "    </tr>\n",
       "  </tbody>\n",
       "</table>\n",
       "</div>"
      ],
      "text/plain": [
       "        user_id  age  attraction_distribution  coins country  \\\n",
       "2199  892185039   99                      759      0      GB   \n",
       "\n",
       "         retention_days  sex  user_dating.age_start  user_dating.age_end  \\\n",
       "2199  1,2,3,4,5,6,7,8,9    1                     43                   49   \n",
       "\n",
       "      view_count  was_special  is_special  total_revenue registration_date  \\\n",
       "2199          79            1           1           7332   19.10.2017 7:36   \n",
       "\n",
       "         payment_date  revenue  payment_service_id   place product_type  \n",
       "2199  19.10.2017 7:52     7332               147.0  Dating         prem  "
      ]
     },
     "execution_count": 343,
     "metadata": {},
     "output_type": "execute_result"
    }
   ],
   "source": [
    "full_df_70.query('is_special == 1')"
   ]
  },
  {
   "cell_type": "markdown",
   "id": "ebbeac40",
   "metadata": {},
   "source": [
    "Но и с ним не все так гладко. Появляется много вопросов, например - почему возраст человека - 99, а ищет он людей в возрасте 43 - 49 лет? Может ли быть такое, что он ошибся и на самом деле ему, например, 49 лет, или специально указал неправильный возраст?\n",
    "\n",
    "Также сомнение вызывает тот факт, что премиум подписку этот пользователь купил через 16 минут после регистрации в приложении. Возникает вопрос, не могло ли это быть случайной покупкой? Или же пользователь зарегестрировал новый аккаунт, зная преимущества премиум плодписки и решил купить ее сразу же для открытия некоторых полезных функций? \n",
    "\n",
    "Так же оставим без внимания."
   ]
  },
  {
   "cell_type": "markdown",
   "id": "9576cc8d",
   "metadata": {},
   "source": [
    "Посмотрим, как распределяется данные по возрасту для всех пользователей и для пользователей, купивших премиум подписку."
   ]
  },
  {
   "cell_type": "markdown",
   "id": "18a9b076",
   "metadata": {},
   "source": [
    "**Все пользователи контрольной таблицы 1**"
   ]
  },
  {
   "cell_type": "code",
   "execution_count": 344,
   "id": "a618d4dd",
   "metadata": {
    "scrolled": true
   },
   "outputs": [
    {
     "data": {
      "text/plain": [
       "<AxesSubplot:>"
      ]
     },
     "execution_count": 344,
     "metadata": {},
     "output_type": "execute_result"
    },
    {
     "data": {
      "image/png": "[encoded data removed]",
      "text/plain": [
       "<Figure size 432x288 with 1 Axes>"
      ]
     },
     "metadata": {
      "needs_background": "light"
     },
     "output_type": "display_data"
    }
   ],
   "source": [
    "full_df_1['age'].hist(bins=100)"
   ]
  },
  {
   "cell_type": "markdown",
   "id": "6d702e7e",
   "metadata": {},
   "source": [
    "**Пользователи таблицы 1, купившие премиум**"
   ]
  },
  {
   "cell_type": "code",
   "execution_count": 345,
   "id": "be962aba",
   "metadata": {},
   "outputs": [
    {
     "data": {
      "text/plain": [
       "<AxesSubplot:>"
      ]
     },
     "execution_count": 345,
     "metadata": {},
     "output_type": "execute_result"
    },
    {
     "data": {
      "image/png": "[encoded data removed]",
      "text/plain": [
       "<Figure size 432x288 with 1 Axes>"
      ]
     },
     "metadata": {
      "needs_background": "light"
     },
     "output_type": "display_data"
    }
   ],
   "source": [
    "full_df_1_prem = full_df_1[full_df_1['product_type'] == 'prem']\n",
    "full_df_1_prem['age'].hist(bins=100)"
   ]
  },
  {
   "cell_type": "markdown",
   "id": "3948be16",
   "metadata": {},
   "source": [
    "По графикам видно, что распределения похожи, чем старше люди - тем меньше пользуются приложением. \n",
    "\n",
    "Что касается покупки премиум подписок, то распределение практически идентично. "
   ]
  },
  {
   "cell_type": "markdown",
   "id": "01a3524e",
   "metadata": {},
   "source": [
    "**Все пользователи контрольной таблицы 2**"
   ]
  },
  {
   "cell_type": "code",
   "execution_count": 346,
   "id": "f3b54eb7",
   "metadata": {
    "scrolled": true
   },
   "outputs": [
    {
     "data": {
      "text/plain": [
       "<AxesSubplot:>"
      ]
     },
     "execution_count": 346,
     "metadata": {},
     "output_type": "execute_result"
    },
    {
     "data": {
      "image/png": "[encoded data removed]",
      "text/plain": [
       "<Figure size 432x288 with 1 Axes>"
      ]
     },
     "metadata": {
      "needs_background": "light"
     },
     "output_type": "display_data"
    }
   ],
   "source": [
    "full_df_2['age'].hist(bins=100)"
   ]
  },
  {
   "cell_type": "markdown",
   "id": "0eda26fd",
   "metadata": {},
   "source": [
    "**Пользователи таблицы 2, купившие премиум**"
   ]
  },
  {
   "cell_type": "code",
   "execution_count": 347,
   "id": "e044a136",
   "metadata": {},
   "outputs": [
    {
     "data": {
      "text/plain": [
       "<AxesSubplot:>"
      ]
     },
     "execution_count": 347,
     "metadata": {},
     "output_type": "execute_result"
    },
    {
     "data": {
      "image/png": "[encoded data removed]",
      "text/plain": [
       "<Figure size 432x288 with 1 Axes>"
      ]
     },
     "metadata": {
      "needs_background": "light"
     },
     "output_type": "display_data"
    }
   ],
   "source": [
    "full_df_2_prem = full_df_2[full_df_2['product_type'] == 'prem']\n",
    "full_df_2_prem['age'].hist(bins=100)"
   ]
  },
  {
   "cell_type": "markdown",
   "id": "7ff97f62",
   "metadata": {},
   "source": [
    "Для второй контрольной группы результат идентичен."
   ]
  },
  {
   "cell_type": "markdown",
   "id": "91e80b6b",
   "metadata": {},
   "source": [
    "**Все пользователи тестовой таблицы**"
   ]
  },
  {
   "cell_type": "code",
   "execution_count": 348,
   "id": "9c5112a7",
   "metadata": {},
   "outputs": [
    {
     "data": {
      "text/plain": [
       "<AxesSubplot:>"
      ]
     },
     "execution_count": 348,
     "metadata": {},
     "output_type": "execute_result"
    },
    {
     "data": {
      "image/png": "[encoded data removed]",
      "text/plain": [
       "<Figure size 432x288 with 1 Axes>"
      ]
     },
     "metadata": {
      "needs_background": "light"
     },
     "output_type": "display_data"
    }
   ],
   "source": [
    "full_df_test['age'].hist(bins=100)"
   ]
  },
  {
   "cell_type": "markdown",
   "id": "2597e761",
   "metadata": {},
   "source": [
    "**Пользователи тестовой группы, купившие премиум**"
   ]
  },
  {
   "cell_type": "code",
   "execution_count": 349,
   "id": "941ed46d",
   "metadata": {
    "scrolled": true
   },
   "outputs": [
    {
     "data": {
      "text/plain": [
       "<AxesSubplot:>"
      ]
     },
     "execution_count": 349,
     "metadata": {},
     "output_type": "execute_result"
    },
    {
     "data": {
      "image/png": "[encoded data removed]",
      "text/plain": [
       "<Figure size 432x288 with 1 Axes>"
      ]
     },
     "metadata": {
      "needs_background": "light"
     },
     "output_type": "display_data"
    }
   ],
   "source": [
    "full_df_test_prem = full_df_test[full_df_test['product_type'] == 'prem']\n",
    "full_df_test_prem['age'].hist(bins=100)"
   ]
  },
  {
   "cell_type": "markdown",
   "id": "1250dd80",
   "metadata": {},
   "source": [
    "Изучив гистограммы, мы увидим, что гистограмма покупок премиум подписки в тестовой группе, где стоимость увеличена в два раза, отличается от гистограмм групп со стандартной ценой.\n",
    "\n",
    "Если в контрольных группах гистограммы покупок премиум подписки по возрасту повторяют гистограммы возраста пользователей приложения, то есть основная масса пользователей и покупателей премиум подписки - это люди в возрасте 20 - 30 лет, то в тестовой группе, где распределение пользователей по возрастам повторяет контрольные группы, гистограмма покупок премиум подписки показала, что охотнее подписку по удвоенной цене покупает группа людей в возрасте 30 - 40 лет.\n",
    "\n",
    "Это можно объяснить тем, что люди в этом возрасте, в основном, более состоявшиеся в жизни, нежели молодежь и могут потратить те деньги, за которые продается премиум подписка охотнее, несмотря на увеличенную цену, что означает, что ввести двойную стоимость подписки для данной группы пользователей может оказаться целесообразным решением."
   ]
  },
  {
   "cell_type": "code",
   "execution_count": 350,
   "id": "cfe85d68",
   "metadata": {
    "scrolled": true
   },
   "outputs": [
    {
     "data": {
      "text/html": [
       "<div>\n",
       "<style scoped>\n",
       "    .dataframe tbody tr th:only-of-type {\n",
       "        vertical-align: middle;\n",
       "    }\n",
       "\n",
       "    .dataframe tbody tr th {\n",
       "        vertical-align: top;\n",
       "    }\n",
       "\n",
       "    .dataframe thead th {\n",
       "        text-align: right;\n",
       "    }\n",
       "</style>\n",
       "<table border=\"1\" class=\"dataframe\">\n",
       "  <thead>\n",
       "    <tr style=\"text-align: right;\">\n",
       "      <th></th>\n",
       "      <th>user_id</th>\n",
       "      <th>age</th>\n",
       "      <th>attraction_distribution</th>\n",
       "      <th>coins</th>\n",
       "      <th>country</th>\n",
       "      <th>retention_days</th>\n",
       "      <th>sex</th>\n",
       "      <th>user_dating.age_start</th>\n",
       "      <th>user_dating.age_end</th>\n",
       "      <th>view_count</th>\n",
       "      <th>was_special</th>\n",
       "      <th>is_special</th>\n",
       "      <th>total_revenue</th>\n",
       "      <th>registration_date</th>\n",
       "      <th>payment_date</th>\n",
       "      <th>revenue</th>\n",
       "      <th>payment_service_id</th>\n",
       "      <th>place</th>\n",
       "      <th>product_type</th>\n",
       "    </tr>\n",
       "  </thead>\n",
       "  <tbody>\n",
       "    <tr>\n",
       "      <th>2726</th>\n",
       "      <td>892065108</td>\n",
       "      <td>99</td>\n",
       "      <td>475</td>\n",
       "      <td>72</td>\n",
       "      <td>FR</td>\n",
       "      <td>1,2,3,4,5,6,7,8,9,10,11,12,13,14,16,17,18,19,2...</td>\n",
       "      <td>1</td>\n",
       "      <td>16</td>\n",
       "      <td>41</td>\n",
       "      <td>187</td>\n",
       "      <td>1</td>\n",
       "      <td>1</td>\n",
       "      <td>47242</td>\n",
       "      <td>21.10.2017 20:40</td>\n",
       "      <td>08.11.2017 22:45</td>\n",
       "      <td>7098</td>\n",
       "      <td>147.0</td>\n",
       "      <td>PopularUserChatBlock</td>\n",
       "      <td>prem</td>\n",
       "    </tr>\n",
       "    <tr>\n",
       "      <th>2733</th>\n",
       "      <td>892065108</td>\n",
       "      <td>99</td>\n",
       "      <td>475</td>\n",
       "      <td>72</td>\n",
       "      <td>FR</td>\n",
       "      <td>1,2,3,4,5,6,7,8,9,10,11,12,13,14,16,17,18,19,2...</td>\n",
       "      <td>1</td>\n",
       "      <td>16</td>\n",
       "      <td>41</td>\n",
       "      <td>187</td>\n",
       "      <td>1</td>\n",
       "      <td>1</td>\n",
       "      <td>47242</td>\n",
       "      <td>21.10.2017 20:40</td>\n",
       "      <td>09.11.2017 10:45</td>\n",
       "      <td>7098</td>\n",
       "      <td>147.0</td>\n",
       "      <td>PopularUserChatBlock</td>\n",
       "      <td>prem</td>\n",
       "    </tr>\n",
       "    <tr>\n",
       "      <th>2734</th>\n",
       "      <td>892065108</td>\n",
       "      <td>99</td>\n",
       "      <td>475</td>\n",
       "      <td>72</td>\n",
       "      <td>FR</td>\n",
       "      <td>1,2,3,4,5,6,7,8,9,10,11,12,13,14,16,17,18,19,2...</td>\n",
       "      <td>1</td>\n",
       "      <td>16</td>\n",
       "      <td>41</td>\n",
       "      <td>187</td>\n",
       "      <td>1</td>\n",
       "      <td>1</td>\n",
       "      <td>47242</td>\n",
       "      <td>21.10.2017 20:40</td>\n",
       "      <td>10.11.2017 15:24</td>\n",
       "      <td>7111</td>\n",
       "      <td>147.0</td>\n",
       "      <td>PopularUserChatBlock</td>\n",
       "      <td>prem</td>\n",
       "    </tr>\n",
       "  </tbody>\n",
       "</table>\n",
       "</div>"
      ],
      "text/plain": [
       "        user_id  age  attraction_distribution  coins country  \\\n",
       "2726  892065108   99                      475     72      FR   \n",
       "2733  892065108   99                      475     72      FR   \n",
       "2734  892065108   99                      475     72      FR   \n",
       "\n",
       "                                         retention_days  sex  \\\n",
       "2726  1,2,3,4,5,6,7,8,9,10,11,12,13,14,16,17,18,19,2...    1   \n",
       "2733  1,2,3,4,5,6,7,8,9,10,11,12,13,14,16,17,18,19,2...    1   \n",
       "2734  1,2,3,4,5,6,7,8,9,10,11,12,13,14,16,17,18,19,2...    1   \n",
       "\n",
       "      user_dating.age_start  user_dating.age_end  view_count  was_special  \\\n",
       "2726                     16                   41         187            1   \n",
       "2733                     16                   41         187            1   \n",
       "2734                     16                   41         187            1   \n",
       "\n",
       "      is_special  total_revenue registration_date      payment_date  revenue  \\\n",
       "2726           1          47242  21.10.2017 20:40  08.11.2017 22:45     7098   \n",
       "2733           1          47242  21.10.2017 20:40  09.11.2017 10:45     7098   \n",
       "2734           1          47242  21.10.2017 20:40  10.11.2017 15:24     7111   \n",
       "\n",
       "      payment_service_id                 place product_type  \n",
       "2726               147.0  PopularUserChatBlock         prem  \n",
       "2733               147.0  PopularUserChatBlock         prem  \n",
       "2734               147.0  PopularUserChatBlock         prem  "
      ]
     },
     "execution_count": 350,
     "metadata": {},
     "output_type": "execute_result"
    }
   ],
   "source": [
    "full_df_test_prem.query('age == 99')"
   ]
  },
  {
   "cell_type": "markdown",
   "id": "d08dc11d",
   "metadata": {},
   "source": [
    "В тестовой группе так же есть пользователи  с сомнительным возрастом 99 лет, один из них купил подписку три раза. Скорее всего, это ошибочный возраст, тем не менее, знать настоящий возраст мы не можем, хоть и можно предположить, что, если пользователь ищет людей в возрасте от 16 до 41 года, то, судя по верхней границе, возраст может составлять, например, 39 лет.\n",
    "\n",
    "Но так же можно и предположить, что это действительно пожилой человек, который, например, ищет себе сиделку или просто молодого человека для общения.\n",
    "\n",
    "Таким образом, заменять возраст мы не будем, так как данные о пользователе не сильно влияют на данные по всей таблице. Но и удалять пользователей с таким возрастом смысла нет, ибо, кроме премиум подписки, пользователь мог приносить прибыль, покупая монеты и другие продукты."
   ]
  },
  {
   "cell_type": "markdown",
   "id": "d47dc7f5",
   "metadata": {},
   "source": [
    "Прежде чем подводить итоги, посчитаем, оличается ли, и, если отличается, то насколько сильно, отношение прибыли от премиум подписок к общей прибыли. Прибыль от пользователя только по покупкам премиум подписки у нас посчитана в глобальной переменной `prem_revenue`, но, так как кто-то мог купить ее больше одного раза (продлить), как пользователь, о котором шла речь выше, уберем повторяющиеся идентификаторы пользователей, чтобы посчитать общую прибыль всех пользователей по всем продуктам и посчитаем отношение."
   ]
  },
  {
   "cell_type": "code",
   "execution_count": 351,
   "id": "0857ff22",
   "metadata": {},
   "outputs": [],
   "source": [
    "def revenue_statistic(df):\n",
    "    df_updated = df.drop_duplicates(subset='user_id', ignore_index=True)\n",
    "    total_revenue = df_updated['revenue'].sum()\n",
    "    prem_revenue = df[df['product_type'] == 'prem']['revenue'].sum()\n",
    "    prem_to_all_revenue_relation = prem_revenue / total_revenue\n",
    "    return f'Отношение прибыли от покупки премиум подписки ко всей прибыли составляет {prem_to_all_revenue_relation:.1%}'"
   ]
  },
  {
   "cell_type": "code",
   "execution_count": 352,
   "id": "a44641bb",
   "metadata": {},
   "outputs": [
    {
     "data": {
      "text/plain": [
       "'Отношение прибыли от покупки премиум подписки ко всей прибыли составляет 54.6%'"
      ]
     },
     "execution_count": 352,
     "metadata": {},
     "output_type": "execute_result"
    }
   ],
   "source": [
    "revenue_statistic(full_df_1)"
   ]
  },
  {
   "cell_type": "code",
   "execution_count": 353,
   "id": "9bad795d",
   "metadata": {},
   "outputs": [
    {
     "data": {
      "text/plain": [
       "'Отношение прибыли от покупки премиум подписки ко всей прибыли составляет 55.8%'"
      ]
     },
     "execution_count": 353,
     "metadata": {},
     "output_type": "execute_result"
    }
   ],
   "source": [
    "revenue_statistic(full_df_2)"
   ]
  },
  {
   "cell_type": "code",
   "execution_count": 354,
   "id": "29c82480",
   "metadata": {},
   "outputs": [
    {
     "data": {
      "text/plain": [
       "'Отношение прибыли от покупки премиум подписки ко всей прибыли составляет 56.7%'"
      ]
     },
     "execution_count": 354,
     "metadata": {},
     "output_type": "execute_result"
    }
   ],
   "source": [
    "revenue_statistic(full_df_test)"
   ]
  },
  {
   "cell_type": "markdown",
   "id": "70e6eb20",
   "metadata": {},
   "source": [
    "Как показали результаты рассчетов, в контрольных группах покупки премиум подписки составляют чуть более половины всей прибыли. В тестовой группе результат оказался таким же."
   ]
  },
  {
   "cell_type": "markdown",
   "id": "0efd77c1",
   "metadata": {},
   "source": [
    "### Промежуточные результаты"
   ]
  },
  {
   "cell_type": "markdown",
   "id": "0c7dc256",
   "metadata": {},
   "source": [
    "Соединив таблицы и исследовав некоторые группы пользователей, в частности по полу и возрасту, мы пришли к некоторым немаловажным выводам о целесообразности повышения цены премиум подписки.  "
   ]
  },
  {
   "cell_type": "markdown",
   "id": "c4a307e8",
   "metadata": {},
   "source": [
    "## 3. Результаты исследования и общий вывод."
   ]
  },
  {
   "cell_type": "markdown",
   "id": "574b2a31",
   "metadata": {},
   "source": [
    "Изучив результаты проведенного A/B теста, было обнаружено, что тест не подтвердил преимущетва новых цен для всех пользователей.\n",
    "\n",
    "Тем не менее, есть группы пользователей для которых имеет смысл повысить стоимость подписки. Оказалось, что пользователи из Арабских Эмиратов и мужчины в возрасте 30 - 40 лет готовы покупать премиум подписку, несмотря на увеличенную в два раза стоимость.\n",
    "\n",
    "Таким образом, целесообразно провести еще один A/B тест, в котором стоимость подписки увеличат для этих групп пользователей и посмотреть на результат."
   ]
  }
 ],
 "metadata": {
  "kernelspec": {
   "display_name": "Python 3 (ipykernel)",
   "language": "python",
   "name": "python3"
  },
  "language_info": {
   "codemirror_mode": {
    "name": "ipython",
    "version": 3
   },
   "file_extension": ".py",
   "mimetype": "text/x-python",
   "name": "python",
   "nbconvert_exporter": "python",
   "pygments_lexer": "ipython3",
   "version": "3.8.6"
  }
 },
 "nbformat": 4,
 "nbformat_minor": 5
}
